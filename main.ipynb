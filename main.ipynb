{
  "nbformat": 4,
  "nbformat_minor": 0,
  "metadata": {
    "colab": {
      "provenance": [],
      "gpuType": "T4",
      "authorship_tag": "ABX9TyN4kgURp4UBxqyRWBMBz8Sg",
      "include_colab_link": true
    },
    "kernelspec": {
      "name": "python3",
      "display_name": "Python 3"
    },
    "language_info": {
      "name": "python"
    },
    "accelerator": "GPU"
  },
  "cells": [
    {
      "cell_type": "markdown",
      "metadata": {
        "id": "view-in-github",
        "colab_type": "text"
      },
      "source": [
        "<a href=\"https://colab.research.google.com/github/jinho-choi123/advanced-Grapher/blob/main/main.ipynb\" target=\"_parent\"><img src=\"https://colab.research.google.com/assets/colab-badge.svg\" alt=\"Open In Colab\"/></a>"
      ]
    },
    {
      "cell_type": "markdown",
      "source": [
        "## Setup"
      ],
      "metadata": {
        "id": "7m-Qpa3sjKaF"
      }
    },
    {
      "cell_type": "code",
      "execution_count": 19,
      "metadata": {
        "id": "C3SYImfQTjNI",
        "colab": {
          "base_uri": "https://localhost:8080/"
        },
        "outputId": "6cef28ee-d4e9-4cc5-bf5f-86f22c3af51d"
      },
      "outputs": [
        {
          "output_type": "stream",
          "name": "stdout",
          "text": [
            "✨🍰✨ Everything looks OK!\n"
          ]
        }
      ],
      "source": [
        "# Install Colab Conda\n",
        "!pip install -q condacolab\n",
        "import condacolab\n",
        "condacolab.install()"
      ]
    },
    {
      "cell_type": "code",
      "source": [
        "# Git clone https://github.com/jinho-choi123/advanced-Grapher.git\n",
        "!git clone https://github.com/jinho-choi123/advanced-Grapher.git"
      ],
      "metadata": {
        "colab": {
          "base_uri": "https://localhost:8080/"
        },
        "id": "Rs2WemMUjQ1E",
        "outputId": "421098a5-0e0f-483e-b2fc-b25c806857fa"
      },
      "execution_count": 2,
      "outputs": [
        {
          "output_type": "stream",
          "name": "stdout",
          "text": [
            "fatal: destination path 'advanced-Grapher' already exists and is not an empty directory.\n"
          ]
        }
      ]
    },
    {
      "cell_type": "code",
      "source": [
        "# install conda dependencies\n",
        "%cd advanced-Grapher\n",
        "\n",
        "!conda env create -q -f requirements.yml -n advanced_grapher_env"
      ],
      "metadata": {
        "colab": {
          "base_uri": "https://localhost:8080/"
        },
        "id": "z0munEtujSCr",
        "outputId": "17b02dcf-e907-4cbc-c73f-8b712970372d"
      },
      "execution_count": 22,
      "outputs": [
        {
          "output_type": "stream",
          "name": "stdout",
          "text": [
            "[Errno 2] No such file or directory: 'advanced-Grapher'\n",
            "/content/advanced-Grapher\n",
            "no change     /usr/local/condabin/conda\n",
            "no change     /usr/local/bin/conda\n",
            "no change     /usr/local/bin/conda-env\n",
            "no change     /usr/local/bin/activate\n",
            "no change     /usr/local/bin/deactivate\n",
            "no change     /usr/local/etc/profile.d/conda.sh\n",
            "no change     /usr/local/etc/fish/conf.d/conda.fish\n",
            "no change     /usr/local/shell/condabin/Conda.psm1\n",
            "no change     /usr/local/shell/condabin/conda-hook.ps1\n",
            "no change     /usr/local/lib/python3.11/site-packages/xontrib/conda.xsh\n",
            "no change     /usr/local/etc/profile.d/conda.csh\n",
            "no change     /root/.bashrc\n",
            "No action taken.\n",
            "\n",
            "CondaValueError: prefix already exists: /usr/local/envs/advanced_grapher_env\n",
            "\n"
          ]
        }
      ]
    },
    {
      "cell_type": "code",
      "source": [
        "%%shell\n",
        "eval \"$(conda shell.bash hook)\"\n",
        "conda activate advanced_grapher_env"
      ],
      "metadata": {
        "colab": {
          "base_uri": "https://localhost:8080/"
        },
        "id": "ebhEVyc4oRIH",
        "outputId": "ae68c8c0-e5fc-4502-8ead-ec6c8939502f"
      },
      "execution_count": 25,
      "outputs": [
        {
          "output_type": "execute_result",
          "data": {
            "text/plain": []
          },
          "metadata": {},
          "execution_count": 25
        }
      ]
    },
    {
      "cell_type": "code",
      "source": [
        "# install datasets and dataset reader\n",
        "!git clone https://gitlab.com/webnlg/corpus-reader.git corpusreader\n",
        "!git clone https://gitlab.com/shimorina/webnlg-dataset.git"
      ],
      "metadata": {
        "colab": {
          "base_uri": "https://localhost:8080/"
        },
        "id": "JrAXHlszjq1q",
        "outputId": "4a847a3b-bfa3-4c5b-f9c0-19bfb1dc4342"
      },
      "execution_count": 26,
      "outputs": [
        {
          "output_type": "stream",
          "name": "stdout",
          "text": [
            "Cloning into 'corpusreader'...\n",
            "remote: Enumerating objects: 21, done.\u001b[K\n",
            "remote: Total 21 (delta 0), reused 0 (delta 0), pack-reused 21 (from 1)\u001b[K\n",
            "Receiving objects: 100% (21/21), 7.88 KiB | 7.88 MiB/s, done.\n",
            "Resolving deltas: 100% (9/9), done.\n",
            "Cloning into 'webnlg-dataset'...\n",
            "remote: Enumerating objects: 5112, done.\u001b[K\n",
            "remote: Counting objects: 100% (6/6), done.\u001b[K\n",
            "remote: Compressing objects: 100% (6/6), done.\u001b[K\n",
            "remote: Total 5112 (delta 2), reused 0 (delta 0), pack-reused 5106 (from 1)\u001b[K\n",
            "Receiving objects: 100% (5112/5112), 26.09 MiB | 20.10 MiB/s, done.\n",
            "Resolving deltas: 100% (4010/4010), done.\n",
            "Updating files: 100% (1425/1425), done.\n"
          ]
        }
      ]
    },
    {
      "cell_type": "markdown",
      "source": [
        "## Training"
      ],
      "metadata": {
        "id": "2b389hyrjvjJ"
      }
    },
    {
      "cell_type": "code",
      "source": [
        "%%shell\n",
        "eval \"$(conda shell.bash hook)\"\n",
        "conda activate advanced_grapher_env\n",
        "\n",
        "# Actual Training happens here\n",
        "python main.py    --version 1\\\n",
        "                  --default_root_dir output \\\n",
        "                  --run train \\\n",
        "                  --max_epochs 100 \\\n",
        "                  --accelerator gpu \\\n",
        "                  --num_nodes 1 \\\n",
        "                  --devices \"0,\" \\\n",
        "                  --num_data_workers 32 \\\n",
        "                  --lr 1e-4 \\\n",
        "                  --batch_size 100 \\\n",
        "                  --num_sanity_val_steps 10 \\\n",
        "                  --fast_dev_run 0 \\\n",
        "                  --overfit_batches 0 \\\n",
        "                  --limit_train_batches 1.0 \\\n",
        "                  --limit_val_batches 1.0 \\\n",
        "                  --limit_test_batches 1.0 \\\n",
        "                  --accumulate_grad_batches 5 \\\n",
        "                  --detect_anomaly True \\\n",
        "                  --data_path webnlg-dataset/release_v3.0/en \\\n",
        "                  --val_check_interval 1.0 \\\n",
        "                  --focal_loss_gamma 3 \\\n",
        "                  --dropout_rate 0.5 \\\n",
        "                  --num_layers 2 \\\n",
        "                  --edges_as_classes 1 \\\n",
        "                  --checkpoint_model_id -1 \\\n",
        "                  # --add-rgcn  \\\n",
        "\n",
        "\n",
        "                  # set add_rgcn flag if you want to test with rgcn added\n",
        "                  # if add_rgcn flag is set, we should reduce batch_size"
      ],
      "metadata": {
        "colab": {
          "base_uri": "https://localhost:8080/"
        },
        "id": "Dh8I-mGljxEG",
        "outputId": "2fdde1a8-7ed6-462f-fa1c-2f6d552d2758"
      },
      "execution_count": null,
      "outputs": [
        {
          "output_type": "stream",
          "name": "stdout",
          "text": [
            "('arguments: \\n'\n",
            " \"Namespace(dataset='webnlg', run='train', pretrained_model='t5-small', \"\n",
            " \"version='1', data_path='webnlg-dataset/release_v3.0/en', cache_dir='cache', \"\n",
            " 'num_data_workers=32, checkpoint_model_id=-1, max_nodes=8, max_edges=7, '\n",
            " 'default_seq_len_node=20, default_seq_len_edge=20, edges_as_classes=1, '\n",
            " 'batch_size=100, lr=0.0001, focal_loss_gamma=3.0, dropout_rate=0.5, '\n",
            " \"num_layers=2, eval_dump_only=0, inference_input_text='Danielle Harris had a \"\n",
            " \"main role in Super Capers, a 98 minute long movie.', model_max_length=512, \"\n",
            " 'rgcn_layers_num=2, rgcn_hidden_dim=128, add_rgcn=False, logger=True, '\n",
            " \"enable_checkpointing=True, default_root_dir='output', \"\n",
            " 'gradient_clip_val=None, gradient_clip_algorithm=None, num_nodes=1, '\n",
            " \"num_processes=None, devices='0,', gpus=None, auto_select_gpus=False, \"\n",
            " 'tpu_cores=None, ipus=None, enable_progress_bar=True, overfit_batches=0, '\n",
            " 'track_grad_norm=-1, check_val_every_n_epoch=1, fast_dev_run=False, '\n",
            " 'accumulate_grad_batches=5, max_epochs=100, min_epochs=None, max_steps=-1, '\n",
            " 'min_steps=None, max_time=None, limit_train_batches=1.0, '\n",
            " 'limit_val_batches=1.0, limit_test_batches=1.0, limit_predict_batches=None, '\n",
            " \"val_check_interval=1.0, log_every_n_steps=50, accelerator='gpu', \"\n",
            " 'strategy=None, sync_batchnorm=False, precision=32, '\n",
            " 'enable_model_summary=True, num_sanity_val_steps=10, '\n",
            " 'resume_from_checkpoint=None, profiler=None, benchmark=None, '\n",
            " 'deterministic=None, reload_dataloaders_every_n_epochs=0, auto_lr_find=False, '\n",
            " 'replace_sampler_ddp=True, detect_anomaly=True, auto_scale_batch_size=False, '\n",
            " \"plugins=None, amp_backend='native', amp_level=None, \"\n",
            " \"move_metrics_to_cpu=False, multiple_trainloader_mode='max_size_cycle', \"\n",
            " 'inference_mode=True)')\n",
            "TRAIN MODE\n",
            "Downloading: 100% 773k/773k [00:00<00:00, 6.13MB/s]\n",
            "Downloading: 100% 2.27k/2.27k [00:00<00:00, 10.1MB/s]\n",
            "ModelCheckpoint(save_last=True, save_top_k=-1, monitor=None) will duplicate the last checkpoint saved.\n",
            "Downloading: 100% 1.18k/1.18k [00:00<00:00, 5.92MB/s]\n",
            "Downloading: 100% 231M/231M [00:04<00:00, 56.7MB/s]\n",
            "add_rgcn not flagged.\n",
            "Freezed RGCN Model...\n",
            "Training Grapher Model...\n",
            "GPU available: True (cuda), used: True\n",
            "TPU available: False, using: 0 TPU cores\n",
            "IPU available: False, using: 0 IPUs\n",
            "HPU available: False, using: 0 HPUs\n",
            "`Trainer(limit_train_batches=1.0)` was configured so 100% of the batches per epoch will be used..\n",
            "`Trainer(limit_val_batches=1.0)` was configured so 100% of the batches will be used..\n",
            "`Trainer(limit_test_batches=1.0)` was configured so 100% of the batches will be used..\n",
            "`Trainer(val_check_interval=1.0)` was configured so validation will run at the end of the training epoch..\n",
            "LOCAL_RANK: 0 - CUDA_VISIBLE_DEVICES: [0]\n",
            "┏━━━┳━━━━━━━┳━━━━━━━━━━━━━━━━━┳━━━━━━━━┓\n",
            "┃\u001b[1;35m \u001b[0m\u001b[1;35m \u001b[0m\u001b[1;35m \u001b[0m┃\u001b[1;35m \u001b[0m\u001b[1;35mName \u001b[0m\u001b[1;35m \u001b[0m┃\u001b[1;35m \u001b[0m\u001b[1;35mType           \u001b[0m\u001b[1;35m \u001b[0m┃\u001b[1;35m \u001b[0m\u001b[1;35mParams\u001b[0m\u001b[1;35m \u001b[0m┃\n",
            "┡━━━╇━━━━━━━╇━━━━━━━━━━━━━━━━━╇━━━━━━━━┩\n",
            "│\u001b[2m \u001b[0m\u001b[2m0\u001b[0m\u001b[2m \u001b[0m│ model │ AdvancedGrapher │ 73.7 M │\n",
            "└───┴───────┴─────────────────┴────────┘\n",
            "\u001b[1mTrainable params\u001b[0m: 61.3 M                                                        \n",
            "\u001b[1mNon-trainable params\u001b[0m: 12.4 M                                                    \n",
            "\u001b[1mTotal params\u001b[0m: 73.7 M                                                            \n",
            "\u001b[1mTotal estimated model params size (MB)\u001b[0m: 294                                     \n",
            "\u001b[2K/usr/local/envs/advanced_grapher_env/lib/python3.9/site-packages/torch/utils/dat\n",
            "a/dataloader.py:554: UserWarning: This DataLoader will create 32 worker \n",
            "processes in total. Our suggested max number of worker in current system is 2, \n",
            "which is smaller than what this DataLoader is going to create. Please be aware \n",
            "that excessive worker creation might get DataLoader running slow or even freeze,\n",
            "lower the worker number to avoid potential slowness/freeze if necessary.\n",
            "  warnings.warn(_create_warning_msg(\n",
            "\u001b[2K"
          ]
        }
      ]
    },
    {
      "cell_type": "markdown",
      "source": [
        "## Testing"
      ],
      "metadata": {
        "id": "QJ6pT6-Nj6N9"
      }
    },
    {
      "cell_type": "code",
      "source": [
        "%%shell\n",
        "eval \"$(conda shell.bash hook)\"\n",
        "conda activate advanced_grapher_env\n",
        "\n",
        "! python main.py  --version 1\\\n",
        "                  --default_root_dir output \\\n",
        "                  --run test \\\n",
        "                  --max_epochs 200 \\\n",
        "                  --accelerator gpu \\\n",
        "                  --num_nodes 1 \\\n",
        "                  --devices \"1,\" \\\n",
        "                  --num_data_workers 32 \\\n",
        "                  --lr 5e-4 \\\n",
        "                  --batch_size 150 \\\n",
        "                  --num_sanity_val_steps 0 \\\n",
        "                  --fast_dev_run 0 \\\n",
        "                  --overfit_batches 0 \\\n",
        "                  --limit_train_batches 1.0 \\\n",
        "                  --limit_val_batches 1.0 \\\n",
        "                  --limit_test_batches 1.0 \\\n",
        "                  --accumulate_grad_batches 1 \\\n",
        "                  --detect_anomaly True \\\n",
        "                  --data_path webnlg-dataset/release_v3.0/en \\\n",
        "                  --val_check_interval 1.0 \\\n",
        "                  --focal_loss_gamma 3 \\\n",
        "                  --dropout_rate 0.5 \\\n",
        "                  --num_layers 2 \\\n",
        "                  --checkpoint_model_id -1 \\\n",
        "                  --precision \"bf16\" \\\n",
        "                  # --add-rgcn  \\\n",
        "\n",
        "\n",
        "                  # set add_rgcn flag if you want to train rgcn"
      ],
      "metadata": {
        "colab": {
          "base_uri": "https://localhost:8080/",
          "height": 1000
        },
        "id": "vXNnIlghj7Nx",
        "outputId": "6fc8eb6f-50f5-44d7-c90c-8f36d155beea"
      },
      "execution_count": 30,
      "outputs": [
        {
          "output_type": "stream",
          "name": "stdout",
          "text": [
            "\n",
            "    _|    _|  _|    _|    _|_|_|    _|_|_|  _|_|_|  _|      _|    _|_|_|      _|_|_|_|    _|_|      _|_|_|  _|_|_|_|\n",
            "    _|    _|  _|    _|  _|        _|          _|    _|_|    _|  _|            _|        _|    _|  _|        _|\n",
            "    _|_|_|_|  _|    _|  _|  _|_|  _|  _|_|    _|    _|  _|  _|  _|  _|_|      _|_|_|    _|_|_|_|  _|        _|_|_|\n",
            "    _|    _|  _|    _|  _|    _|  _|    _|    _|    _|    _|_|  _|    _|      _|        _|    _|  _|        _|\n",
            "    _|    _|    _|_|      _|_|_|    _|_|_|  _|_|_|  _|      _|    _|_|_|      _|        _|    _|    _|_|_|  _|_|_|_|\n",
            "\n",
            "Enter your token (input will not be visible): Traceback (most recent call last):\n",
            "  File \"/content/advanced-Grapher/main.py\", line 15, in <module>\n",
            "    login()\n",
            "  File \"/usr/local/envs/advanced_grapher_env/lib/python3.9/site-packages/huggingface_hub/utils/_deprecation.py\", line 101, in inner_f\n",
            "    return f(*args, **kwargs)\n",
            "  File \"/usr/local/envs/advanced_grapher_env/lib/python3.9/site-packages/huggingface_hub/utils/_deprecation.py\", line 31, in inner_f\n",
            "    return f(*args, **kwargs)\n",
            "  File \"/usr/local/envs/advanced_grapher_env/lib/python3.9/site-packages/huggingface_hub/_login.py\", line 130, in login\n",
            "    interpreter_login(new_session=new_session)\n",
            "  File \"/usr/local/envs/advanced_grapher_env/lib/python3.9/site-packages/huggingface_hub/utils/_deprecation.py\", line 101, in inner_f\n",
            "    return f(*args, **kwargs)\n",
            "  File \"/usr/local/envs/advanced_grapher_env/lib/python3.9/site-packages/huggingface_hub/utils/_deprecation.py\", line 31, in inner_f\n",
            "    return f(*args, **kwargs)\n",
            "  File \"/usr/local/envs/advanced_grapher_env/lib/python3.9/site-packages/huggingface_hub/_login.py\", line 287, in interpreter_login\n",
            "    token = getpass(\"Enter your token (input will not be visible): \")\n",
            "  File \"/usr/local/envs/advanced_grapher_env/lib/python3.9/getpass.py\", line 77, in unix_getpass\n",
            "    passwd = _raw_input(prompt, stream, input=input)\n",
            "  File \"/usr/local/envs/advanced_grapher_env/lib/python3.9/getpass.py\", line 146, in _raw_input\n",
            "    line = input.readline()\n",
            "KeyboardInterrupt\n"
          ]
        },
        {
          "output_type": "error",
          "ename": "CalledProcessError",
          "evalue": "Command 'eval \"$(conda shell.bash hook)\"\nconda activate advanced_grapher_env\n\n! python main.py  --version 1\\\n                  --default_root_dir output \\\n                  --run train \\\n                  --max_epochs 200 \\\n                  --accelerator gpu \\\n                  --num_nodes 1 \\\n                  --devices \"1,\" \\\n                  --num_data_workers 32 \\\n                  --lr 5e-4 \\\n                  --batch_size 150 \\\n                  --num_sanity_val_steps 0 \\\n                  --fast_dev_run 0 \\\n                  --overfit_batches 0 \\\n                  --limit_train_batches 1.0 \\\n                  --limit_val_batches 1.0 \\\n                  --limit_test_batches 1.0 \\\n                  --accumulate_grad_batches 1 \\\n                  --detect_anomaly True \\\n                  --data_path webnlg-dataset/release_v3.0/en \\\n                  --val_check_interval 1.0 \\\n                  --focal_loss_gamma 3 \\\n                  --dropout_rate 0.5 \\\n                  --num_layers 2 \\\n                  --checkpoint_model_id -1 \\\n                  --precision \"bf16\" \\\n                  # --add-rgcn  \\\n\n\n                  # set add_rgcn flag if you want to train rgcn\n' died with <Signals.SIGINT: 2>.",
          "traceback": [
            "\u001b[0;31m---------------------------------------------------------------------------\u001b[0m",
            "\u001b[0;31mCalledProcessError\u001b[0m                        Traceback (most recent call last)",
            "\u001b[0;32m<ipython-input-30-c293ed4b820d>\u001b[0m in \u001b[0;36m<cell line: 0>\u001b[0;34m()\u001b[0m\n\u001b[0;32m----> 1\u001b[0;31m \u001b[0mget_ipython\u001b[0m\u001b[0;34m(\u001b[0m\u001b[0;34m)\u001b[0m\u001b[0;34m.\u001b[0m\u001b[0mrun_cell_magic\u001b[0m\u001b[0;34m(\u001b[0m\u001b[0;34m'shell'\u001b[0m\u001b[0;34m,\u001b[0m \u001b[0;34m''\u001b[0m\u001b[0;34m,\u001b[0m \u001b[0;34m'eval \"$(conda shell.bash hook)\"\\nconda activate advanced_grapher_env\\n\\n! python main.py  --version 1\\\\\\n                  --default_root_dir output \\\\\\n                  --run train \\\\\\n                  --max_epochs 200 \\\\\\n                  --accelerator gpu \\\\\\n                  --num_nodes 1 \\\\\\n                  --devices \"1,\" \\\\\\n                  --num_data_workers 32 \\\\\\n                  --lr 5e-4 \\\\\\n                  --batch_size 150 \\\\\\n                  --num_sanity_val_steps 0 \\\\\\n                  --fast_dev_run 0 \\\\\\n                  --overfit_batches 0 \\\\\\n                  --limit_train_batches 1.0 \\\\\\n                  --limit_val_batches 1.0 \\\\\\n                  --limit_test_batches 1.0 \\\\\\n                  --accumulate_grad_batches 1 \\\\\\n                  --detect_anomaly True \\\\\\n                  --data_path webnlg-dataset/release_v3.0/en \\\\\\n                  --val_check_interval 1.0 \\\\\\n                  --focal_loss_gamma 3 \\\\\\n                  --dropout_rate 0.5 \\\\\\n                  --num_layers 2 \\\\\\n                  --checkpoint_model_id -1 \\\\\\n                  --precision \"bf16\" \\\\\\n                  # --add-rgcn  \\\\\\n\\n\\n                  # set add_rgcn flag if you want to train rgcn\\n'\u001b[0m\u001b[0;34m)\u001b[0m\u001b[0;34m\u001b[0m\u001b[0;34m\u001b[0m\u001b[0m\n\u001b[0m",
            "\u001b[0;32m/usr/local/lib/python3.11/dist-packages/google/colab/_shell.py\u001b[0m in \u001b[0;36mrun_cell_magic\u001b[0;34m(self, magic_name, line, cell)\u001b[0m\n\u001b[1;32m    356\u001b[0m     \u001b[0;32mif\u001b[0m \u001b[0mline\u001b[0m \u001b[0;32mand\u001b[0m \u001b[0;32mnot\u001b[0m \u001b[0mcell\u001b[0m\u001b[0;34m:\u001b[0m\u001b[0;34m\u001b[0m\u001b[0;34m\u001b[0m\u001b[0m\n\u001b[1;32m    357\u001b[0m       \u001b[0mcell\u001b[0m \u001b[0;34m=\u001b[0m \u001b[0;34m' '\u001b[0m\u001b[0;34m\u001b[0m\u001b[0;34m\u001b[0m\u001b[0m\n\u001b[0;32m--> 358\u001b[0;31m     \u001b[0;32mreturn\u001b[0m \u001b[0msuper\u001b[0m\u001b[0;34m(\u001b[0m\u001b[0;34m)\u001b[0m\u001b[0;34m.\u001b[0m\u001b[0mrun_cell_magic\u001b[0m\u001b[0;34m(\u001b[0m\u001b[0mmagic_name\u001b[0m\u001b[0;34m,\u001b[0m \u001b[0mline\u001b[0m\u001b[0;34m,\u001b[0m \u001b[0mcell\u001b[0m\u001b[0;34m)\u001b[0m\u001b[0;34m\u001b[0m\u001b[0;34m\u001b[0m\u001b[0m\n\u001b[0m\u001b[1;32m    359\u001b[0m \u001b[0;34m\u001b[0m\u001b[0m\n\u001b[1;32m    360\u001b[0m \u001b[0;34m\u001b[0m\u001b[0m\n",
            "\u001b[0;32m/usr/local/lib/python3.11/dist-packages/IPython/core/interactiveshell.py\u001b[0m in \u001b[0;36mrun_cell_magic\u001b[0;34m(self, magic_name, line, cell)\u001b[0m\n\u001b[1;32m   2471\u001b[0m             \u001b[0;32mwith\u001b[0m \u001b[0mself\u001b[0m\u001b[0;34m.\u001b[0m\u001b[0mbuiltin_trap\u001b[0m\u001b[0;34m:\u001b[0m\u001b[0;34m\u001b[0m\u001b[0;34m\u001b[0m\u001b[0m\n\u001b[1;32m   2472\u001b[0m                 \u001b[0margs\u001b[0m \u001b[0;34m=\u001b[0m \u001b[0;34m(\u001b[0m\u001b[0mmagic_arg_s\u001b[0m\u001b[0;34m,\u001b[0m \u001b[0mcell\u001b[0m\u001b[0;34m)\u001b[0m\u001b[0;34m\u001b[0m\u001b[0;34m\u001b[0m\u001b[0m\n\u001b[0;32m-> 2473\u001b[0;31m                 \u001b[0mresult\u001b[0m \u001b[0;34m=\u001b[0m \u001b[0mfn\u001b[0m\u001b[0;34m(\u001b[0m\u001b[0;34m*\u001b[0m\u001b[0margs\u001b[0m\u001b[0;34m,\u001b[0m \u001b[0;34m**\u001b[0m\u001b[0mkwargs\u001b[0m\u001b[0;34m)\u001b[0m\u001b[0;34m\u001b[0m\u001b[0;34m\u001b[0m\u001b[0m\n\u001b[0m\u001b[1;32m   2474\u001b[0m             \u001b[0;32mreturn\u001b[0m \u001b[0mresult\u001b[0m\u001b[0;34m\u001b[0m\u001b[0;34m\u001b[0m\u001b[0m\n\u001b[1;32m   2475\u001b[0m \u001b[0;34m\u001b[0m\u001b[0m\n",
            "\u001b[0;32m/usr/local/lib/python3.11/dist-packages/google/colab/_system_commands.py\u001b[0m in \u001b[0;36m_shell_cell_magic\u001b[0;34m(args, cmd)\u001b[0m\n\u001b[1;32m    110\u001b[0m   \u001b[0mresult\u001b[0m \u001b[0;34m=\u001b[0m \u001b[0m_run_command\u001b[0m\u001b[0;34m(\u001b[0m\u001b[0mcmd\u001b[0m\u001b[0;34m,\u001b[0m \u001b[0mclear_streamed_output\u001b[0m\u001b[0;34m=\u001b[0m\u001b[0;32mFalse\u001b[0m\u001b[0;34m)\u001b[0m\u001b[0;34m\u001b[0m\u001b[0;34m\u001b[0m\u001b[0m\n\u001b[1;32m    111\u001b[0m   \u001b[0;32mif\u001b[0m \u001b[0;32mnot\u001b[0m \u001b[0mparsed_args\u001b[0m\u001b[0;34m.\u001b[0m\u001b[0mignore_errors\u001b[0m\u001b[0;34m:\u001b[0m\u001b[0;34m\u001b[0m\u001b[0;34m\u001b[0m\u001b[0m\n\u001b[0;32m--> 112\u001b[0;31m     \u001b[0mresult\u001b[0m\u001b[0;34m.\u001b[0m\u001b[0mcheck_returncode\u001b[0m\u001b[0;34m(\u001b[0m\u001b[0;34m)\u001b[0m\u001b[0;34m\u001b[0m\u001b[0;34m\u001b[0m\u001b[0m\n\u001b[0m\u001b[1;32m    113\u001b[0m   \u001b[0;32mreturn\u001b[0m \u001b[0mresult\u001b[0m\u001b[0;34m\u001b[0m\u001b[0;34m\u001b[0m\u001b[0m\n\u001b[1;32m    114\u001b[0m \u001b[0;34m\u001b[0m\u001b[0m\n",
            "\u001b[0;32m/usr/local/lib/python3.11/dist-packages/google/colab/_system_commands.py\u001b[0m in \u001b[0;36mcheck_returncode\u001b[0;34m(self)\u001b[0m\n\u001b[1;32m    135\u001b[0m   \u001b[0;32mdef\u001b[0m \u001b[0mcheck_returncode\u001b[0m\u001b[0;34m(\u001b[0m\u001b[0mself\u001b[0m\u001b[0;34m)\u001b[0m\u001b[0;34m:\u001b[0m\u001b[0;34m\u001b[0m\u001b[0;34m\u001b[0m\u001b[0m\n\u001b[1;32m    136\u001b[0m     \u001b[0;32mif\u001b[0m \u001b[0mself\u001b[0m\u001b[0;34m.\u001b[0m\u001b[0mreturncode\u001b[0m\u001b[0;34m:\u001b[0m\u001b[0;34m\u001b[0m\u001b[0;34m\u001b[0m\u001b[0m\n\u001b[0;32m--> 137\u001b[0;31m       raise subprocess.CalledProcessError(\n\u001b[0m\u001b[1;32m    138\u001b[0m           \u001b[0mreturncode\u001b[0m\u001b[0;34m=\u001b[0m\u001b[0mself\u001b[0m\u001b[0;34m.\u001b[0m\u001b[0mreturncode\u001b[0m\u001b[0;34m,\u001b[0m \u001b[0mcmd\u001b[0m\u001b[0;34m=\u001b[0m\u001b[0mself\u001b[0m\u001b[0;34m.\u001b[0m\u001b[0margs\u001b[0m\u001b[0;34m,\u001b[0m \u001b[0moutput\u001b[0m\u001b[0;34m=\u001b[0m\u001b[0mself\u001b[0m\u001b[0;34m.\u001b[0m\u001b[0moutput\u001b[0m\u001b[0;34m\u001b[0m\u001b[0;34m\u001b[0m\u001b[0m\n\u001b[1;32m    139\u001b[0m       )\n",
            "\u001b[0;31mCalledProcessError\u001b[0m: Command 'eval \"$(conda shell.bash hook)\"\nconda activate advanced_grapher_env\n\n! python main.py  --version 1\\\n                  --default_root_dir output \\\n                  --run train \\\n                  --max_epochs 200 \\\n                  --accelerator gpu \\\n                  --num_nodes 1 \\\n                  --devices \"1,\" \\\n                  --num_data_workers 32 \\\n                  --lr 5e-4 \\\n                  --batch_size 150 \\\n                  --num_sanity_val_steps 0 \\\n                  --fast_dev_run 0 \\\n                  --overfit_batches 0 \\\n                  --limit_train_batches 1.0 \\\n                  --limit_val_batches 1.0 \\\n                  --limit_test_batches 1.0 \\\n                  --accumulate_grad_batches 1 \\\n                  --detect_anomaly True \\\n                  --data_path webnlg-dataset/release_v3.0/en \\\n                  --val_check_interval 1.0 \\\n                  --focal_loss_gamma 3 \\\n                  --dropout_rate 0.5 \\\n                  --num_layers 2 \\\n                  --checkpoint_model_id -1 \\\n                  --precision \"bf16\" \\\n                  # --add-rgcn  \\\n\n\n                  # set add_rgcn flag if you want to train rgcn\n' died with <Signals.SIGINT: 2>."
          ]
        }
      ]
    }
  ]
}