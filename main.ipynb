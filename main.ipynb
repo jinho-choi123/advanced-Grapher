{
  "nbformat": 4,
  "nbformat_minor": 0,
  "metadata": {
    "colab": {
      "provenance": [],
      "gpuType": "T4",
      "authorship_tag": "ABX9TyPDuJVj75qCBGmO/YubcrUK",
      "include_colab_link": true
    },
    "kernelspec": {
      "name": "python3",
      "display_name": "Python 3"
    },
    "language_info": {
      "name": "python"
    },
    "accelerator": "GPU"
  },
  "cells": [
    {
      "cell_type": "markdown",
      "metadata": {
        "id": "view-in-github",
        "colab_type": "text"
      },
      "source": [
        "<a href=\"https://colab.research.google.com/github/jinho-choi123/advanced-Grapher/blob/artifact-evaluation/main.ipynb\" target=\"_parent\"><img src=\"https://colab.research.google.com/assets/colab-badge.svg\" alt=\"Open In Colab\"/></a>"
      ]
    },
    {
      "cell_type": "markdown",
      "source": [
        "## Setup"
      ],
      "metadata": {
        "id": "7m-Qpa3sjKaF"
      }
    },
    {
      "cell_type": "code",
      "execution_count": 4,
      "metadata": {
        "id": "C3SYImfQTjNI",
        "colab": {
          "base_uri": "https://localhost:8080/"
        },
        "outputId": "5d850682-d624-43e6-9815-ace9bb33bcb5"
      },
      "outputs": [
        {
          "output_type": "stream",
          "name": "stdout",
          "text": [
            "✨🍰✨ Everything looks OK!\n"
          ]
        }
      ],
      "source": [
        "# Install Colab Conda\n",
        "!pip install -q condacolab\n",
        "import condacolab\n",
        "condacolab.install()"
      ]
    },
    {
      "cell_type": "code",
      "source": [
        "# Git clone https://github.com/jinho-choi123/advanced-Grapher.git\n",
        "!GIT_LFS_SKIP_SMUDGE=1 git clone https://github.com/jinho-choi123/advanced-Grapher.git"
      ],
      "metadata": {
        "colab": {
          "base_uri": "https://localhost:8080/"
        },
        "id": "Rs2WemMUjQ1E",
        "outputId": "d034a542-9c02-42b5-daf7-6440ced7558b"
      },
      "execution_count": 8,
      "outputs": [
        {
          "output_type": "stream",
          "name": "stdout",
          "text": [
            "Cloning into 'advanced-Grapher'...\n",
            "remote: Enumerating objects: 2147, done.\u001b[K\n",
            "remote: Counting objects: 100% (36/36), done.\u001b[K\n",
            "remote: Compressing objects: 100% (26/26), done.\u001b[K\n",
            "remote: Total 2147 (delta 11), reused 27 (delta 6), pack-reused 2111 (from 2)\u001b[K\n",
            "Receiving objects: 100% (2147/2147), 41.26 MiB | 15.19 MiB/s, done.\n",
            "Resolving deltas: 100% (1227/1227), done.\n"
          ]
        }
      ]
    },
    {
      "cell_type": "code",
      "source": [
        "# install conda dependencies\n",
        "%cd advanced-Grapher\n",
        "\n",
        "!sh scripts/setup.sh"
      ],
      "metadata": {
        "id": "z0munEtujSCr"
      },
      "execution_count": null,
      "outputs": []
    },
    {
      "cell_type": "markdown",
      "source": [
        "## Train Grapher"
      ],
      "metadata": {
        "id": "2b389hyrjvjJ"
      }
    },
    {
      "cell_type": "code",
      "source": [
        "%%shell\n",
        "eval \"$(conda shell.bash hook)\"\n",
        "conda activate advanced_grapher_env\n",
        "\n",
        "cat scripts/train_grapher.sh\n",
        "sh scripts/train_grapher.sh"
      ],
      "metadata": {
        "colab": {
          "base_uri": "https://localhost:8080/"
        },
        "id": "Dh8I-mGljxEG",
        "outputId": "33dc85bd-475c-4be4-b05b-e4ab077c2592"
      },
      "execution_count": null,
      "outputs": [
        {
          "output_type": "stream",
          "name": "stdout",
          "text": [
            "[nltk_data] Downloading package punkt to /root/nltk_data...\n",
            "[nltk_data]   Package punkt is already up-to-date!\n",
            "('arguments: \\n'\n",
            " \"Namespace(dataset='webnlg', run='train', pretrained_model='t5-small', \"\n",
            " \"version='1', data_path='webnlg-dataset/release_v3.0/en', cache_dir='cache', \"\n",
            " 'num_data_workers=12, checkpoint_model_id=-1, max_nodes=8, max_edges=7, '\n",
            " 'default_seq_len_node=20, default_seq_len_edge=20, edges_as_classes=1, '\n",
            " 'batch_size=200, lr=0.0001, focal_loss_gamma=3.0, dropout_rate=0.5, '\n",
            " \"num_layers=2, eval_dump_only=0, inference_input_text='Danielle Harris had a \"\n",
            " \"main role in Super Capers, a 98 minute long movie.', model_max_length=512, \"\n",
            " 'rgcn_layers_num=2, rgcn_hidden_dim=128, add_rgcn=False, logger=True, '\n",
            " \"enable_checkpointing=True, default_root_dir='output', \"\n",
            " 'gradient_clip_val=None, gradient_clip_algorithm=None, num_nodes=1, '\n",
            " \"num_processes=None, devices='0,', gpus=None, auto_select_gpus=False, \"\n",
            " 'tpu_cores=None, ipus=None, enable_progress_bar=True, overfit_batches=0, '\n",
            " 'track_grad_norm=-1, check_val_every_n_epoch=10, fast_dev_run=False, '\n",
            " 'accumulate_grad_batches=1, max_epochs=100, min_epochs=None, max_steps=-1, '\n",
            " 'min_steps=None, max_time=None, limit_train_batches=1.0, '\n",
            " 'limit_val_batches=1.0, limit_test_batches=1.0, limit_predict_batches=None, '\n",
            " \"val_check_interval=1.0, log_every_n_steps=50, accelerator='gpu', \"\n",
            " 'strategy=None, sync_batchnorm=False, precision=32, '\n",
            " 'enable_model_summary=True, num_sanity_val_steps=10, '\n",
            " 'resume_from_checkpoint=None, profiler=None, benchmark=None, '\n",
            " 'deterministic=None, reload_dataloaders_every_n_epochs=0, auto_lr_find=False, '\n",
            " 'replace_sampler_ddp=True, detect_anomaly=True, auto_scale_batch_size=False, '\n",
            " \"plugins=None, amp_backend='native', amp_level=None, \"\n",
            " \"move_metrics_to_cpu=False, multiple_trainloader_mode='max_size_cycle', \"\n",
            " 'inference_mode=True)')\n",
            "TRAIN MODE\n",
            "ModelCheckpoint(save_last=True, save_top_k=-1, monitor=None) will duplicate the last checkpoint saved.\n",
            "GPU available: True (cuda), used: True\n",
            "TPU available: False, using: 0 TPU cores\n",
            "IPU available: False, using: 0 IPUs\n",
            "HPU available: False, using: 0 HPUs\n",
            "`Trainer(limit_train_batches=1.0)` was configured so 100% of the batches per epoch will be used..\n",
            "`Trainer(limit_val_batches=1.0)` was configured so 100% of the batches will be used..\n",
            "`Trainer(limit_test_batches=1.0)` was configured so 100% of the batches will be used..\n",
            "`Trainer(val_check_interval=1.0)` was configured so validation will run at the end of the training epoch..\n",
            "/usr/local/envs/advanced_grapher_env/lib/python3.9/site-packages/pytorch_lightning/callbacks/model_checkpoint.py:601: UserWarning: Checkpoint directory output/webnlg_version_1/checkpoints exists and is not empty.\n",
            "  rank_zero_warn(f\"Checkpoint directory {dirpath} exists and is not empty.\")\n",
            "Restoring states from the checkpoint path at output/webnlg_version_1/checkpoints/last.ckpt\n",
            "/usr/local/envs/advanced_grapher_env/lib/python3.9/site-packages/pytorch_lightning/trainer/trainer.py:1401: UserWarning: Be aware that when using `ckpt_path`, callbacks used to create the checkpoint need to be provided during `Trainer` instantiation. Please add the following callbacks: [\"ModelCheckpoint{'monitor': None, 'mode': 'min', 'every_n_train_steps': 0, 'every_n_epochs': 1, 'train_time_interval': None, 'save_on_train_epoch_end': True}\"].\n",
            "  rank_zero_warn(\n",
            "LOCAL_RANK: 0 - CUDA_VISIBLE_DEVICES: [0]\n",
            "┏━━━┳━━━━━━━┳━━━━━━━━━┳━━━━━━━━┓\n",
            "┃\u001b[1;35m \u001b[0m\u001b[1;35m \u001b[0m\u001b[1;35m \u001b[0m┃\u001b[1;35m \u001b[0m\u001b[1;35mName \u001b[0m\u001b[1;35m \u001b[0m┃\u001b[1;35m \u001b[0m\u001b[1;35mType   \u001b[0m\u001b[1;35m \u001b[0m┃\u001b[1;35m \u001b[0m\u001b[1;35mParams\u001b[0m\u001b[1;35m \u001b[0m┃\n",
            "┡━━━╇━━━━━━━╇━━━━━━━━━╇━━━━━━━━┩\n",
            "│\u001b[2m \u001b[0m\u001b[2m0\u001b[0m\u001b[2m \u001b[0m│ model │ Grapher │ 61.3 M │\n",
            "└───┴───────┴─────────┴────────┘\n",
            "\u001b[1mTrainable params\u001b[0m: 61.3 M                                                        \n",
            "\u001b[1mNon-trainable params\u001b[0m: 0                                                         \n",
            "\u001b[1mTotal params\u001b[0m: 61.3 M                                                            \n",
            "\u001b[1mTotal estimated model params size (MB)\u001b[0m: 245                                     \n",
            "Restored all states from the checkpoint file at output/webnlg_version_1/checkpoints/last.ckpt\n",
            "\u001b[2Kcreating reference xml  file : [output/webnlg_version_1/valid/ref_1780_0.xml]\n",
            "\u001b[2Kcreating hypothesis xml file : [output/webnlg_version_1/valid/hyp_1780_0.xml]\n",
            "\u001b[2K\u001b[37mEpoch 10/99\u001b[0m \u001b[90m━━━━━━━━━━━━━━━━━\u001b[0m \u001b[37m0/178\u001b[0m \u001b[37m0:00:00 • -:--:--\u001b[0m \u001b[37m0.00it/s\u001b[0m \u001b[37mloss: nan v_num: \u001b[0m\n",
            "\u001b[2K\u001b[1A\u001b[2K\u001b[37mEpoch 10/99\u001b[0m \u001b[90m━━━━━━━━━━━━━━━━━\u001b[0m \u001b[37m0/178\u001b[0m \u001b[37m0:00:01 • -:--:--\u001b[0m \u001b[37m0.00it/s\u001b[0m \u001b[37mloss: 0.309      \u001b[0m\n",
            "\u001b[2K\u001b[1A\u001b[2K\u001b[37mEpoch 10/99\u001b[0m \u001b[90m━━━━━━━━━━━━━━━━━\u001b[0m \u001b[37m0/178\u001b[0m \u001b[37m0:00:02 • -:--:--\u001b[0m \u001b[37m0.00it/s\u001b[0m \u001b[37mloss: 0.332      \u001b[0m\n",
            "\u001b[2K\u001b[1A\u001b[2K\u001b[37mEpoch 10/99\u001b[0m \u001b[90m━━━━━━━━━━━━━━━━━\u001b[0m \u001b[37m0/178\u001b[0m \u001b[37m0:00:03 • -:--:--\u001b[0m \u001b[37m0.00it/s\u001b[0m \u001b[37mloss: 0.354      \u001b[0m\n",
            "\u001b[2K\u001b[1A\u001b[2K\u001b[37mEpoch 10/99\u001b[0m \u001b[90m━━━━━━━━━━━━━━━━━\u001b[0m \u001b[37m0/178\u001b[0m \u001b[37m0:00:04 • -:--:--\u001b[0m \u001b[37m0.00it/s\u001b[0m \u001b[37mloss: 0.367      \u001b[0m\n",
            "\u001b[2K\u001b[1A\u001b[2K\u001b[37mEpoch 10/99\u001b[0m \u001b[90m━━━━━━━━━━━━━━━━━\u001b[0m \u001b[37m0/178\u001b[0m \u001b[37m0:00:05 • -:--:--\u001b[0m \u001b[37m0.00it/s\u001b[0m \u001b[37mloss: 0.367      \u001b[0m\n",
            "\u001b[2K\u001b[1A\u001b[2K\u001b[37mEpoch 10/99\u001b[0m \u001b[90m━━━━━━━━━━━━━━━━━\u001b[0m \u001b[37m0/178\u001b[0m \u001b[37m0:00:06 • -:--:--\u001b[0m \u001b[37m0.00it/s\u001b[0m \u001b[37mloss: 0.359      \u001b[0m\n",
            "\u001b[2K\u001b[1A\u001b[2K\u001b[37mEpoch 10/99\u001b[0m \u001b[90m━━━━━━━━━━━━━━━━━\u001b[0m \u001b[37m0/178\u001b[0m \u001b[37m0:00:07 • -:--:--\u001b[0m \u001b[37m0.00it/s\u001b[0m \u001b[37mloss: 0.367      \u001b[0m\n",
            "\u001b[2K\u001b[1A\u001b[2K\u001b[37mEpoch 10/99\u001b[0m \u001b[90m━━━━━━━━━━━━━━━━━\u001b[0m \u001b[37m0/178\u001b[0m \u001b[37m0:00:08 • -:--:--\u001b[0m \u001b[37m0.00it/s\u001b[0m \u001b[37mloss: 0.372      \u001b[0m\n",
            "\u001b[2K\u001b[1A\u001b[2K\u001b[37mEpoch 10/99\u001b[0m \u001b[90m━━━━━━━━━━━━━━━━━\u001b[0m \u001b[37m0/178\u001b[0m \u001b[37m0:00:09 • -:--:--\u001b[0m \u001b[37m0.00it/s\u001b[0m \u001b[37mloss: 0.368      \u001b[0m\n",
            "\u001b[2K\u001b[1A\u001b[2K\u001b[37mEpoch 10/99\u001b[0m \u001b[35m╸\u001b[0m\u001b[90m━━━━━━━━━━━━━━━\u001b[0m \u001b[37m10/178\u001b[0m \u001b[37m0:00:10 • -:--:--\u001b[0m \u001b[37m0.00it/s\u001b[0m \u001b[37mloss: 0.368      \u001b[0m\n",
            "\u001b[2K\u001b[1A\u001b[2K\u001b[37mEpoch 10/99\u001b[0m \u001b[35m╸\u001b[0m\u001b[90m━━━━━━━━━━━━━━━\u001b[0m \u001b[37m10/178\u001b[0m \u001b[37m0:00:10 • -:--:--\u001b[0m \u001b[37m0.00it/s\u001b[0m \u001b[37mloss: 0.365      \u001b[0m\n",
            "\u001b[2K\u001b[1A\u001b[2K\u001b[37mEpoch 10/99\u001b[0m \u001b[35m╸\u001b[0m\u001b[90m━━━━━━━━━━━━━━━\u001b[0m \u001b[37m10/178\u001b[0m \u001b[37m0:00:11 • -:--:--\u001b[0m \u001b[37m0.00it/s\u001b[0m \u001b[37mloss: 0.359      \u001b[0m\n",
            "\u001b[2K\u001b[1A\u001b[2K\u001b[37mEpoch 10/99\u001b[0m \u001b[35m╸\u001b[0m\u001b[90m━━━━━━━━━━━━━━━\u001b[0m \u001b[37m10/178\u001b[0m \u001b[37m0:00:13 • -:--:--\u001b[0m \u001b[37m0.00it/s\u001b[0m \u001b[37mloss: 0.355      \u001b[0m\n",
            "\u001b[2K\u001b[1A\u001b[2K\u001b[37mEpoch 10/99\u001b[0m \u001b[35m╸\u001b[0m\u001b[90m━━━━━━━━━━━━━━━\u001b[0m \u001b[37m10/178\u001b[0m \u001b[37m0:00:14 • -:--:--\u001b[0m \u001b[37m0.00it/s\u001b[0m \u001b[37mloss: 0.354      \u001b[0m\n",
            "\u001b[2K\u001b[1A\u001b[2K\u001b[37mEpoch 10/99\u001b[0m \u001b[35m╸\u001b[0m\u001b[90m━━━━━━━━━━━━━━━\u001b[0m \u001b[37m10/178\u001b[0m \u001b[37m0:00:15 • -:--:--\u001b[0m \u001b[37m0.00it/s\u001b[0m \u001b[37mloss: 0.353      \u001b[0m\n",
            "\u001b[2K\u001b[1A\u001b[2K\u001b[37mEpoch 10/99\u001b[0m \u001b[35m╸\u001b[0m\u001b[90m━━━━━━━━━━━━━━━\u001b[0m \u001b[37m10/178\u001b[0m \u001b[37m0:00:16 • -:--:--\u001b[0m \u001b[37m0.00it/s\u001b[0m \u001b[37mloss: 0.354      \u001b[0m\n",
            "\u001b[2K\u001b[1A\u001b[2K\u001b[37mEpoch 10/99\u001b[0m \u001b[35m╸\u001b[0m\u001b[90m━━━━━━━━━━━━━━━\u001b[0m \u001b[37m10/178\u001b[0m \u001b[37m0:00:17 • -:--:--\u001b[0m \u001b[37m0.00it/s\u001b[0m \u001b[37mloss: 0.353      \u001b[0m\n",
            "\u001b[2K\u001b[1A\u001b[2K\u001b[37mEpoch 10/99\u001b[0m \u001b[35m╸\u001b[0m\u001b[90m━━━━━━━━━━━━━━━\u001b[0m \u001b[37m10/178\u001b[0m \u001b[37m0:00:18 • -:--:--\u001b[0m \u001b[37m0.00it/s\u001b[0m \u001b[37mloss: 0.353      \u001b[0m\n",
            "\u001b[2K\u001b[1A\u001b[2K\u001b[37mEpoch 10/99\u001b[0m \u001b[35m╸\u001b[0m\u001b[90m━━━━━━━━━━━━━━━\u001b[0m \u001b[37m10/178\u001b[0m \u001b[37m0:00:19 • -:--:--\u001b[0m \u001b[37m0.00it/s\u001b[0m \u001b[37mloss: 0.356      \u001b[0m\n",
            "\u001b[2K\u001b[1A\u001b[2K\u001b[37mEpoch 10/99\u001b[0m \u001b[35m╸\u001b[0m\u001b[90m━━━━━━━━━━━━━━━\u001b[0m \u001b[37m10/178\u001b[0m \u001b[37m0:00:20 • -:--:--\u001b[0m \u001b[37m0.00it/s\u001b[0m \u001b[37mloss: 0.354      \u001b[0m\n",
            "\u001b[2K\u001b[1A\u001b[2K\u001b[37mEpoch 10/99\u001b[0m \u001b[35m━\u001b[0m\u001b[35m╸\u001b[0m\u001b[90m━━━━━━━━━━━━━━\u001b[0m \u001b[37m20/178\u001b[0m \u001b[37m0:00:21 • 0:02:50\u001b[0m \u001b[37m0.93it/s\u001b[0m \u001b[37mloss: 0.354      \u001b[0m\n",
            "\u001b[2K\u001b[1A\u001b[2K\u001b[37mEpoch 10/99\u001b[0m \u001b[35m━\u001b[0m\u001b[35m╸\u001b[0m\u001b[90m━━━━━━━━━━━━━━\u001b[0m \u001b[37m20/178\u001b[0m \u001b[37m0:00:21 • 0:02:50\u001b[0m \u001b[37m0.93it/s\u001b[0m \u001b[37mloss: 0.353      \u001b[0m\n",
            "\u001b[2K\u001b[1A\u001b[2K\u001b[37mEpoch 10/99\u001b[0m \u001b[35m━\u001b[0m\u001b[35m╸\u001b[0m\u001b[90m━━━━━━━━━━━━━━\u001b[0m \u001b[37m20/178\u001b[0m \u001b[37m0:00:22 • 0:02:50\u001b[0m \u001b[37m0.93it/s\u001b[0m \u001b[37mloss: 0.354      \u001b[0m\n",
            "\u001b[2K\u001b[1A\u001b[2K\u001b[37mEpoch 10/99\u001b[0m \u001b[35m━\u001b[0m\u001b[35m╸\u001b[0m\u001b[90m━━━━━━━━━━━━━━\u001b[0m \u001b[37m20/178\u001b[0m \u001b[37m0:00:23 • 0:02:50\u001b[0m \u001b[37m0.93it/s\u001b[0m \u001b[37mloss: 0.356      \u001b[0m\n",
            "\u001b[2K\u001b[1A\u001b[2K\u001b[37mEpoch 10/99\u001b[0m \u001b[35m━\u001b[0m\u001b[35m╸\u001b[0m\u001b[90m━━━━━━━━━━━━━━\u001b[0m \u001b[37m20/178\u001b[0m \u001b[37m0:00:24 • 0:02:50\u001b[0m \u001b[37m0.93it/s\u001b[0m \u001b[37mloss: 0.354      \u001b[0m\n",
            "\u001b[2K\u001b[1A\u001b[2K\u001b[37mEpoch 10/99\u001b[0m \u001b[35m━\u001b[0m\u001b[35m╸\u001b[0m\u001b[90m━━━━━━━━━━━━━━\u001b[0m \u001b[37m20/178\u001b[0m \u001b[37m0:00:25 • 0:02:50\u001b[0m \u001b[37m0.93it/s\u001b[0m \u001b[37mloss: 0.351      \u001b[0m\n",
            "\u001b[2K\u001b[1A\u001b[2K\u001b[37mEpoch 10/99\u001b[0m \u001b[35m━\u001b[0m\u001b[35m╸\u001b[0m\u001b[90m━━━━━━━━━━━━━━\u001b[0m \u001b[37m20/178\u001b[0m \u001b[37m0:00:26 • 0:02:50\u001b[0m \u001b[37m0.93it/s\u001b[0m \u001b[37mloss: 0.35 v_num:\u001b[0m\n",
            "\u001b[2K\u001b[1A\u001b[2K\u001b[37mEpoch 10/99\u001b[0m \u001b[35m━\u001b[0m\u001b[35m╸\u001b[0m\u001b[90m━━━━━━━━━━━━━━\u001b[0m \u001b[37m20/178\u001b[0m \u001b[37m0:00:27 • 0:02:50\u001b[0m \u001b[37m0.93it/s\u001b[0m \u001b[37mloss: 0.351      \u001b[0m\n",
            "\u001b[2K\u001b[1A\u001b[2K\u001b[37mEpoch 10/99\u001b[0m \u001b[35m━\u001b[0m\u001b[35m╸\u001b[0m\u001b[90m━━━━━━━━━━━━━━\u001b[0m \u001b[37m20/178\u001b[0m \u001b[37m0:00:28 • 0:02:50\u001b[0m \u001b[37m0.93it/s\u001b[0m \u001b[37mloss: 0.352      \u001b[0m\n",
            "\u001b[2K\u001b[1A\u001b[2K\u001b[37mEpoch 10/99\u001b[0m \u001b[35m━\u001b[0m\u001b[35m╸\u001b[0m\u001b[90m━━━━━━━━━━━━━━\u001b[0m \u001b[37m20/178\u001b[0m \u001b[37m0:00:29 • 0:02:50\u001b[0m \u001b[37m0.93it/s\u001b[0m \u001b[37mloss: 0.351      \u001b[0m\n",
            "\u001b[2K\u001b[1A\u001b[2K\u001b[37mEpoch 10/99\u001b[0m \u001b[35m━\u001b[0m\u001b[35m╸\u001b[0m\u001b[90m━━━━━━━━━━━━━━\u001b[0m \u001b[37m20/178\u001b[0m \u001b[37m0:00:30 • 0:02:50\u001b[0m \u001b[37m0.93it/s\u001b[0m \u001b[37mloss: 0.354      \u001b[0m\n",
            "\u001b[2K\u001b[1A\u001b[2K\u001b[37mEpoch 10/99\u001b[0m \u001b[35m━━\u001b[0m\u001b[35m╸\u001b[0m\u001b[90m━━━━━━━━━━━━━\u001b[0m \u001b[37m30/178\u001b[0m \u001b[37m0:00:31 • 0:02:33\u001b[0m \u001b[37m0.97it/s\u001b[0m \u001b[37mloss: 0.354      \u001b[0m\n",
            "\u001b[2K\u001b[1A\u001b[2K\u001b[37mEpoch 10/99\u001b[0m \u001b[35m━━\u001b[0m\u001b[35m╸\u001b[0m\u001b[90m━━━━━━━━━━━━━\u001b[0m \u001b[37m30/178\u001b[0m \u001b[37m0:00:31 • 0:02:33\u001b[0m \u001b[37m0.97it/s\u001b[0m \u001b[37mloss: 0.354      \u001b[0m\n",
            "\u001b[2K\u001b[1A\u001b[2K\u001b[37mEpoch 10/99\u001b[0m \u001b[35m━━\u001b[0m\u001b[35m╸\u001b[0m\u001b[90m━━━━━━━━━━━━━\u001b[0m \u001b[37m30/178\u001b[0m \u001b[37m0:00:32 • 0:02:33\u001b[0m \u001b[37m0.97it/s\u001b[0m \u001b[37mloss: 0.358      \u001b[0m\n",
            "\u001b[2K\u001b[1A\u001b[2K\u001b[37mEpoch 10/99\u001b[0m \u001b[35m━━\u001b[0m\u001b[35m╸\u001b[0m\u001b[90m━━━━━━━━━━━━━\u001b[0m \u001b[37m30/178\u001b[0m \u001b[37m0:00:33 • 0:02:33\u001b[0m \u001b[37m0.97it/s\u001b[0m \u001b[37mloss: 0.361      \u001b[0m\n",
            "\u001b[2K\u001b[1A\u001b[2K\u001b[37mEpoch 10/99\u001b[0m \u001b[35m━━\u001b[0m\u001b[35m╸\u001b[0m\u001b[90m━━━━━━━━━━━━━\u001b[0m \u001b[37m30/178\u001b[0m \u001b[37m0:00:34 • 0:02:33\u001b[0m \u001b[37m0.97it/s\u001b[0m \u001b[37mloss: 0.362      \u001b[0m\n",
            "\u001b[2K\u001b[1A\u001b[2K\u001b[37mEpoch 10/99\u001b[0m \u001b[35m━━\u001b[0m\u001b[35m╸\u001b[0m\u001b[90m━━━━━━━━━━━━━\u001b[0m \u001b[37m30/178\u001b[0m \u001b[37m0:00:35 • 0:02:33\u001b[0m \u001b[37m0.97it/s\u001b[0m \u001b[37mloss: 0.362      \u001b[0m\n",
            "\u001b[2K\u001b[1A\u001b[2K\u001b[37mEpoch 10/99\u001b[0m \u001b[35m━━\u001b[0m\u001b[35m╸\u001b[0m\u001b[90m━━━━━━━━━━━━━\u001b[0m \u001b[37m30/178\u001b[0m \u001b[37m0:00:36 • 0:02:33\u001b[0m \u001b[37m0.97it/s\u001b[0m \u001b[37mloss: 0.366      \u001b[0m\n",
            "\u001b[2K\u001b[1A\u001b[2K\u001b[37mEpoch 10/99\u001b[0m \u001b[35m━━\u001b[0m\u001b[35m╸\u001b[0m\u001b[90m━━━━━━━━━━━━━\u001b[0m \u001b[37m30/178\u001b[0m \u001b[37m0:00:37 • 0:02:33\u001b[0m \u001b[37m0.97it/s\u001b[0m \u001b[37mloss: 0.364      \u001b[0m\n",
            "\u001b[2K\u001b[1A\u001b[2K\u001b[37mEpoch 10/99\u001b[0m \u001b[35m━━\u001b[0m\u001b[35m╸\u001b[0m\u001b[90m━━━━━━━━━━━━━\u001b[0m \u001b[37m30/178\u001b[0m \u001b[37m0:00:38 • 0:02:33\u001b[0m \u001b[37m0.97it/s\u001b[0m \u001b[37mloss: 0.363      \u001b[0m\n",
            "\u001b[2K\u001b[1A\u001b[2K\u001b[37mEpoch 10/99\u001b[0m \u001b[35m━━\u001b[0m\u001b[35m╸\u001b[0m\u001b[90m━━━━━━━━━━━━━\u001b[0m \u001b[37m30/178\u001b[0m \u001b[37m0:00:39 • 0:02:33\u001b[0m \u001b[37m0.97it/s\u001b[0m \u001b[37mloss: 0.362      \u001b[0m\n",
            "\u001b[2K\u001b[1A\u001b[2K\u001b[37mEpoch 10/99\u001b[0m \u001b[35m━━\u001b[0m\u001b[35m╸\u001b[0m\u001b[90m━━━━━━━━━━━━━\u001b[0m \u001b[37m30/178\u001b[0m \u001b[37m0:00:40 • 0:02:33\u001b[0m \u001b[37m0.97it/s\u001b[0m \u001b[37mloss: 0.361      \u001b[0m\n",
            "\u001b[2K\u001b[1A\u001b[2K\u001b[37mEpoch 10/99\u001b[0m \u001b[35m━━━\u001b[0m\u001b[35m╸\u001b[0m\u001b[90m━━━━━━━━━━━━\u001b[0m \u001b[37m40/178\u001b[0m \u001b[37m0:00:41 • 0:02:18\u001b[0m \u001b[37m1.01it/s\u001b[0m \u001b[37mloss: 0.361      \u001b[0m\n",
            "\u001b[2K\u001b[1A\u001b[2K\u001b[37mEpoch 10/99\u001b[0m \u001b[35m━━━\u001b[0m\u001b[35m╸\u001b[0m\u001b[90m━━━━━━━━━━━━\u001b[0m \u001b[37m40/178\u001b[0m \u001b[37m0:00:41 • 0:02:18\u001b[0m \u001b[37m1.01it/s\u001b[0m \u001b[37mloss: 0.361      \u001b[0m\n",
            "\u001b[2K\u001b[1A\u001b[2K\u001b[37mEpoch 10/99\u001b[0m \u001b[35m━━━\u001b[0m\u001b[35m╸\u001b[0m\u001b[90m━━━━━━━━━━━━\u001b[0m \u001b[37m40/178\u001b[0m \u001b[37m0:00:42 • 0:02:18\u001b[0m \u001b[37m1.01it/s\u001b[0m \u001b[37mloss: 0.362      \u001b[0m\n",
            "\u001b[2K\u001b[1A\u001b[2K\u001b[37mEpoch 10/99\u001b[0m \u001b[35m━━━\u001b[0m\u001b[35m╸\u001b[0m\u001b[90m━━━━━━━━━━━━\u001b[0m \u001b[37m40/178\u001b[0m \u001b[37m0:00:43 • 0:02:18\u001b[0m \u001b[37m1.01it/s\u001b[0m \u001b[37mloss: 0.359      \u001b[0m\n",
            "\u001b[2K\u001b[1A\u001b[2K\u001b[37mEpoch 10/99\u001b[0m \u001b[35m━━━\u001b[0m\u001b[35m╸\u001b[0m\u001b[90m━━━━━━━━━━━━\u001b[0m \u001b[37m40/178\u001b[0m \u001b[37m0:00:44 • 0:02:18\u001b[0m \u001b[37m1.01it/s\u001b[0m \u001b[37mloss: 0.357      \u001b[0m\n",
            "\u001b[2K\u001b[1A\u001b[2K\u001b[37mEpoch 10/99\u001b[0m \u001b[35m━━━\u001b[0m\u001b[35m╸\u001b[0m\u001b[90m━━━━━━━━━━━━\u001b[0m \u001b[37m40/178\u001b[0m \u001b[37m0:00:45 • 0:02:18\u001b[0m \u001b[37m1.01it/s\u001b[0m \u001b[37mloss: 0.359      \u001b[0m\n",
            "\u001b[2K\u001b[1A\u001b[2K\u001b[37mEpoch 10/99\u001b[0m \u001b[35m━━━\u001b[0m\u001b[35m╸\u001b[0m\u001b[90m━━━━━━━━━━━━\u001b[0m \u001b[37m40/178\u001b[0m \u001b[37m0:00:46 • 0:02:18\u001b[0m \u001b[37m1.01it/s\u001b[0m \u001b[37mloss: 0.358      \u001b[0m\n",
            "\u001b[2K\u001b[1A\u001b[2K\u001b[37mEpoch 10/99\u001b[0m \u001b[35m━━━\u001b[0m\u001b[35m╸\u001b[0m\u001b[90m━━━━━━━━━━━━\u001b[0m \u001b[37m40/178\u001b[0m \u001b[37m0:00:47 • 0:02:18\u001b[0m \u001b[37m1.01it/s\u001b[0m \u001b[37mloss: 0.362      \u001b[0m\n",
            "\u001b[2K\u001b[1A\u001b[2K\u001b[37mEpoch 10/99\u001b[0m \u001b[35m━━━\u001b[0m\u001b[35m╸\u001b[0m\u001b[90m━━━━━━━━━━━━\u001b[0m \u001b[37m40/178\u001b[0m \u001b[37m0:00:48 • 0:02:18\u001b[0m \u001b[37m1.01it/s\u001b[0m \u001b[37mloss: 0.355      \u001b[0m\n",
            "\u001b[2K\u001b[1A\u001b[2K\u001b[37mEpoch 10/99\u001b[0m \u001b[35m━━━\u001b[0m\u001b[35m╸\u001b[0m\u001b[90m━━━━━━━━━━━━\u001b[0m \u001b[37m40/178\u001b[0m \u001b[37m0:00:49 • 0:02:18\u001b[0m \u001b[37m1.01it/s\u001b[0m \u001b[37mloss: 0.352      \u001b[0m\n",
            "\u001b[2K\u001b[1A\u001b[2K\u001b[37mEpoch 10/99\u001b[0m \u001b[35m━━━\u001b[0m\u001b[35m╸\u001b[0m\u001b[90m━━━━━━━━━━━━\u001b[0m \u001b[37m40/178\u001b[0m \u001b[37m0:00:50 • 0:02:18\u001b[0m \u001b[37m1.01it/s\u001b[0m \u001b[37mloss: 0.353      \u001b[0m\n",
            "\u001b[2K\u001b[1A\u001b[2K\u001b[37mEpoch 10/99\u001b[0m \u001b[35m━━━━\u001b[0m\u001b[90m╺\u001b[0m\u001b[90m━━━━━━━━━━━\u001b[0m \u001b[37m50/178\u001b[0m \u001b[37m0:00:51 • 0:02:07\u001b[0m \u001b[37m1.01it/s\u001b[0m \u001b[37mloss: 0.353      \u001b[0m\n",
            "\u001b[2K\u001b[1A\u001b[2K\u001b[37mEpoch 10/99\u001b[0m \u001b[35m━━━━\u001b[0m\u001b[90m╺\u001b[0m\u001b[90m━━━━━━━━━━━\u001b[0m \u001b[37m50/178\u001b[0m \u001b[37m0:00:51 • 0:02:07\u001b[0m \u001b[37m1.01it/s\u001b[0m \u001b[37mloss: 0.353      \u001b[0m\n",
            "\u001b[2K\u001b[1A\u001b[2K\u001b[37mEpoch 10/99\u001b[0m \u001b[35m━━━━\u001b[0m\u001b[90m╺\u001b[0m\u001b[90m━━━━━━━━━━━\u001b[0m \u001b[37m50/178\u001b[0m \u001b[37m0:00:52 • 0:02:07\u001b[0m \u001b[37m1.01it/s\u001b[0m \u001b[37mloss: 0.351      \u001b[0m\n",
            "\u001b[2K\u001b[1A\u001b[2K\u001b[37mEpoch 10/99\u001b[0m \u001b[35m━━━━\u001b[0m\u001b[90m╺\u001b[0m\u001b[90m━━━━━━━━━━━\u001b[0m \u001b[37m50/178\u001b[0m \u001b[37m0:00:53 • 0:02:07\u001b[0m \u001b[37m1.01it/s\u001b[0m \u001b[37mloss: 0.35 v_num:\u001b[0m\n",
            "\u001b[2K\u001b[1A\u001b[2K\u001b[37mEpoch 10/99\u001b[0m \u001b[35m━━━━\u001b[0m\u001b[90m╺\u001b[0m\u001b[90m━━━━━━━━━━━\u001b[0m \u001b[37m50/178\u001b[0m \u001b[37m0:00:54 • 0:02:07\u001b[0m \u001b[37m1.01it/s\u001b[0m \u001b[37mloss: 0.348      \u001b[0m\n",
            "\u001b[2K\u001b[1A\u001b[2K\u001b[37mEpoch 10/99\u001b[0m \u001b[35m━━━━\u001b[0m\u001b[90m╺\u001b[0m\u001b[90m━━━━━━━━━━━\u001b[0m \u001b[37m50/178\u001b[0m \u001b[37m0:00:55 • 0:02:07\u001b[0m \u001b[37m1.01it/s\u001b[0m \u001b[37mloss: 0.35 v_num:\u001b[0m\n",
            "\u001b[2K\u001b[1A\u001b[2K\u001b[37mEpoch 10/99\u001b[0m \u001b[35m━━━━\u001b[0m\u001b[90m╺\u001b[0m\u001b[90m━━━━━━━━━━━\u001b[0m \u001b[37m50/178\u001b[0m \u001b[37m0:00:56 • 0:02:07\u001b[0m \u001b[37m1.01it/s\u001b[0m \u001b[37mloss: 0.345      \u001b[0m\n",
            "\u001b[2K\u001b[1A\u001b[2K\u001b[37mEpoch 10/99\u001b[0m \u001b[35m━━━━\u001b[0m\u001b[90m╺\u001b[0m\u001b[90m━━━━━━━━━━━\u001b[0m \u001b[37m50/178\u001b[0m \u001b[37m0:00:57 • 0:02:07\u001b[0m \u001b[37m1.01it/s\u001b[0m \u001b[37mloss: 0.346      \u001b[0m\n",
            "\u001b[2K\u001b[1A\u001b[2K\u001b[37mEpoch 10/99\u001b[0m \u001b[35m━━━━\u001b[0m\u001b[90m╺\u001b[0m\u001b[90m━━━━━━━━━━━\u001b[0m \u001b[37m50/178\u001b[0m \u001b[37m0:00:58 • 0:02:07\u001b[0m \u001b[37m1.01it/s\u001b[0m \u001b[37mloss: 0.345      \u001b[0m\n",
            "\u001b[2K\u001b[1A\u001b[2K\u001b[37mEpoch 10/99\u001b[0m \u001b[35m━━━━\u001b[0m\u001b[90m╺\u001b[0m\u001b[90m━━━━━━━━━━━\u001b[0m \u001b[37m50/178\u001b[0m \u001b[37m0:00:59 • 0:02:07\u001b[0m \u001b[37m1.01it/s\u001b[0m \u001b[37mloss: 0.345      \u001b[0m\n",
            "\u001b[2K\u001b[1A\u001b[2K\u001b[37mEpoch 10/99\u001b[0m \u001b[35m━━━━\u001b[0m\u001b[90m╺\u001b[0m\u001b[90m━━━━━━━━━━━\u001b[0m \u001b[37m50/178\u001b[0m \u001b[37m0:01:00 • 0:02:07\u001b[0m \u001b[37m1.01it/s\u001b[0m \u001b[37mloss: 0.349      \u001b[0m\n",
            "\u001b[2K\u001b[1A\u001b[2K\u001b[37mEpoch 10/99\u001b[0m \u001b[35m━━━━━\u001b[0m\u001b[90m╺\u001b[0m\u001b[90m━━━━━━━━━━\u001b[0m \u001b[37m60/178\u001b[0m \u001b[37m0:01:01 • 0:01:58\u001b[0m \u001b[37m1.01it/s\u001b[0m \u001b[37mloss: 0.349      \u001b[0m\n",
            "\u001b[2K\u001b[1A\u001b[2K\u001b[37mEpoch 10/99\u001b[0m \u001b[35m━━━━━\u001b[0m\u001b[90m╺\u001b[0m\u001b[90m━━━━━━━━━━\u001b[0m \u001b[37m60/178\u001b[0m \u001b[37m0:01:01 • 0:01:58\u001b[0m \u001b[37m1.01it/s\u001b[0m \u001b[37mloss: 0.349      \u001b[0m\n",
            "\u001b[2K\u001b[1A\u001b[2K\u001b[37mEpoch 10/99\u001b[0m \u001b[35m━━━━━\u001b[0m\u001b[90m╺\u001b[0m\u001b[90m━━━━━━━━━━\u001b[0m \u001b[37m60/178\u001b[0m \u001b[37m0:01:02 • 0:01:58\u001b[0m \u001b[37m1.01it/s\u001b[0m \u001b[37mloss: 0.347      \u001b[0m\n",
            "\u001b[2K\u001b[1A\u001b[2K\u001b[37mEpoch 10/99\u001b[0m \u001b[35m━━━━━\u001b[0m\u001b[90m╺\u001b[0m\u001b[90m━━━━━━━━━━\u001b[0m \u001b[37m60/178\u001b[0m \u001b[37m0:01:03 • 0:01:58\u001b[0m \u001b[37m1.01it/s\u001b[0m \u001b[37mloss: 0.346      \u001b[0m\n",
            "\u001b[2K\u001b[1A\u001b[2K\u001b[37mEpoch 10/99\u001b[0m \u001b[35m━━━━━\u001b[0m\u001b[90m╺\u001b[0m\u001b[90m━━━━━━━━━━\u001b[0m \u001b[37m60/178\u001b[0m \u001b[37m0:01:04 • 0:01:58\u001b[0m \u001b[37m1.01it/s\u001b[0m \u001b[37mloss: 0.348      \u001b[0m\n",
            "\u001b[2K\u001b[1A\u001b[2K\u001b[37mEpoch 10/99\u001b[0m \u001b[35m━━━━━\u001b[0m\u001b[90m╺\u001b[0m\u001b[90m━━━━━━━━━━\u001b[0m \u001b[37m60/178\u001b[0m \u001b[37m0:01:05 • 0:01:58\u001b[0m \u001b[37m1.01it/s\u001b[0m \u001b[37mloss: 0.347      \u001b[0m\n",
            "\u001b[2K\u001b[1A\u001b[2K\u001b[37mEpoch 10/99\u001b[0m \u001b[35m━━━━━\u001b[0m\u001b[90m╺\u001b[0m\u001b[90m━━━━━━━━━━\u001b[0m \u001b[37m60/178\u001b[0m \u001b[37m0:01:06 • 0:01:58\u001b[0m \u001b[37m1.01it/s\u001b[0m \u001b[37mloss: 0.35 v_num:\u001b[0m\n",
            "\u001b[2K\u001b[1A\u001b[2K\u001b[37mEpoch 10/99\u001b[0m \u001b[35m━━━━━\u001b[0m\u001b[90m╺\u001b[0m\u001b[90m━━━━━━━━━━\u001b[0m \u001b[37m60/178\u001b[0m \u001b[37m0:01:07 • 0:01:58\u001b[0m \u001b[37m1.01it/s\u001b[0m \u001b[37mloss: 0.352      \u001b[0m\n",
            "\u001b[2K\u001b[1A\u001b[2K\u001b[37mEpoch 10/99\u001b[0m \u001b[35m━━━━━\u001b[0m\u001b[90m╺\u001b[0m\u001b[90m━━━━━━━━━━\u001b[0m \u001b[37m60/178\u001b[0m \u001b[37m0:01:08 • 0:01:58\u001b[0m \u001b[37m1.01it/s\u001b[0m \u001b[37mloss: 0.354      \u001b[0m\n",
            "\u001b[2K\u001b[1A\u001b[2K\u001b[37mEpoch 10/99\u001b[0m \u001b[35m━━━━━\u001b[0m\u001b[90m╺\u001b[0m\u001b[90m━━━━━━━━━━\u001b[0m \u001b[37m60/178\u001b[0m \u001b[37m0:01:09 • 0:01:58\u001b[0m \u001b[37m1.01it/s\u001b[0m \u001b[37mloss: 0.355      \u001b[0m\n",
            "\u001b[2K\u001b[1A\u001b[2K\u001b[37mEpoch 10/99\u001b[0m \u001b[35m━━━━━\u001b[0m\u001b[90m╺\u001b[0m\u001b[90m━━━━━━━━━━\u001b[0m \u001b[37m60/178\u001b[0m \u001b[37m0:01:10 • 0:01:58\u001b[0m \u001b[37m1.01it/s\u001b[0m \u001b[37mloss: 0.351      \u001b[0m\n",
            "\u001b[2K\u001b[1A\u001b[2K\u001b[37mEpoch 10/99\u001b[0m \u001b[35m━━━━━━\u001b[0m\u001b[90m╺\u001b[0m\u001b[90m━━━━━━━━━\u001b[0m \u001b[37m70/178\u001b[0m \u001b[37m0:01:11 • 0:01:47\u001b[0m \u001b[37m1.01it/s\u001b[0m \u001b[37mloss: 0.351      \u001b[0m\n",
            "\u001b[2K\u001b[1A\u001b[2K\u001b[37mEpoch 10/99\u001b[0m \u001b[35m━━━━━━\u001b[0m\u001b[90m╺\u001b[0m\u001b[90m━━━━━━━━━\u001b[0m \u001b[37m70/178\u001b[0m \u001b[37m0:01:11 • 0:01:47\u001b[0m \u001b[37m1.01it/s\u001b[0m \u001b[37mloss: 0.352      \u001b[0m\n",
            "\u001b[2K\u001b[1A\u001b[2K\u001b[37mEpoch 10/99\u001b[0m \u001b[35m━━━━━━\u001b[0m\u001b[90m╺\u001b[0m\u001b[90m━━━━━━━━━\u001b[0m \u001b[37m70/178\u001b[0m \u001b[37m0:01:11 • 0:01:47\u001b[0m \u001b[37m1.01it/s\u001b[0m \u001b[37mloss: 0.354      \u001b[0m\n",
            "\u001b[2K\u001b[1A\u001b[2K\u001b[37mEpoch 10/99\u001b[0m \u001b[35m━━━━━━\u001b[0m\u001b[90m╺\u001b[0m\u001b[90m━━━━━━━━━\u001b[0m \u001b[37m70/178\u001b[0m \u001b[37m0:01:13 • 0:01:47\u001b[0m \u001b[37m1.01it/s\u001b[0m \u001b[37mloss: 0.352      \u001b[0m\n",
            "\u001b[2K\u001b[1A\u001b[2K\u001b[37mEpoch 10/99\u001b[0m \u001b[35m━━━━━━\u001b[0m\u001b[90m╺\u001b[0m\u001b[90m━━━━━━━━━\u001b[0m \u001b[37m70/178\u001b[0m \u001b[37m0:01:13 • 0:01:47\u001b[0m \u001b[37m1.01it/s\u001b[0m \u001b[37mloss: 0.356      \u001b[0m\n",
            "\u001b[2K\u001b[1A\u001b[2K\u001b[37mEpoch 10/99\u001b[0m \u001b[35m━━━━━━\u001b[0m\u001b[90m╺\u001b[0m\u001b[90m━━━━━━━━━\u001b[0m \u001b[37m70/178\u001b[0m \u001b[37m0:01:14 • 0:01:47\u001b[0m \u001b[37m1.01it/s\u001b[0m \u001b[37mloss: 0.356      \u001b[0m\n",
            "\u001b[2K\u001b[1A\u001b[2K\u001b[37mEpoch 10/99\u001b[0m \u001b[35m━━━━━━\u001b[0m\u001b[90m╺\u001b[0m\u001b[90m━━━━━━━━━\u001b[0m \u001b[37m70/178\u001b[0m \u001b[37m0:01:15 • 0:01:47\u001b[0m \u001b[37m1.01it/s\u001b[0m \u001b[37mloss: 0.358      \u001b[0m\n",
            "\u001b[2K\u001b[1A\u001b[2K\u001b[37mEpoch 10/99\u001b[0m \u001b[35m━━━━━━\u001b[0m\u001b[90m╺\u001b[0m\u001b[90m━━━━━━━━━\u001b[0m \u001b[37m70/178\u001b[0m \u001b[37m0:01:17 • 0:01:47\u001b[0m \u001b[37m1.01it/s\u001b[0m \u001b[37mloss: 0.356      \u001b[0m\n",
            "\u001b[2K\u001b[1A\u001b[2K\u001b[37mEpoch 10/99\u001b[0m \u001b[35m━━━━━━\u001b[0m\u001b[90m╺\u001b[0m\u001b[90m━━━━━━━━━\u001b[0m \u001b[37m70/178\u001b[0m \u001b[37m0:01:18 • 0:01:47\u001b[0m \u001b[37m1.01it/s\u001b[0m \u001b[37mloss: 0.356      \u001b[0m\n",
            "\u001b[2K\u001b[1A\u001b[2K\u001b[37mEpoch 10/99\u001b[0m \u001b[35m━━━━━━\u001b[0m\u001b[90m╺\u001b[0m\u001b[90m━━━━━━━━━\u001b[0m \u001b[37m70/178\u001b[0m \u001b[37m0:01:19 • 0:01:47\u001b[0m \u001b[37m1.01it/s\u001b[0m \u001b[37mloss: 0.355      \u001b[0m\n",
            "\u001b[2K\u001b[1A\u001b[2K\u001b[37mEpoch 10/99\u001b[0m \u001b[35m━━━━━━\u001b[0m\u001b[90m╺\u001b[0m\u001b[90m━━━━━━━━━\u001b[0m \u001b[37m70/178\u001b[0m \u001b[37m0:01:20 • 0:01:47\u001b[0m \u001b[37m1.01it/s\u001b[0m \u001b[37mloss: 0.356      \u001b[0m\n",
            "\u001b[2K\u001b[1A\u001b[2K\u001b[37mEpoch 10/99\u001b[0m \u001b[35m━━━━━━━\u001b[0m\u001b[90m╺\u001b[0m\u001b[90m━━━━━━━━\u001b[0m \u001b[37m80/178\u001b[0m \u001b[37m0:01:21 • 0:01:38\u001b[0m \u001b[37m1.01it/s\u001b[0m \u001b[37mloss: 0.356      \u001b[0m\n",
            "\u001b[2K\u001b[1A\u001b[2K\u001b[37mEpoch 10/99\u001b[0m \u001b[35m━━━━━━━\u001b[0m\u001b[90m╺\u001b[0m\u001b[90m━━━━━━━━\u001b[0m \u001b[37m80/178\u001b[0m \u001b[37m0:01:21 • 0:01:38\u001b[0m \u001b[37m1.01it/s\u001b[0m \u001b[37mloss: 0.357      \u001b[0m\n",
            "\u001b[2K\u001b[1A\u001b[2K\u001b[37mEpoch 10/99\u001b[0m \u001b[35m━━━━━━━\u001b[0m\u001b[90m╺\u001b[0m\u001b[90m━━━━━━━━\u001b[0m \u001b[37m80/178\u001b[0m \u001b[37m0:01:21 • 0:01:38\u001b[0m \u001b[37m1.01it/s\u001b[0m \u001b[37mloss: 0.362      \u001b[0m\n",
            "\u001b[2K\u001b[1A\u001b[2K\u001b[37mEpoch 10/99\u001b[0m \u001b[35m━━━━━━━\u001b[0m\u001b[90m╺\u001b[0m\u001b[90m━━━━━━━━\u001b[0m \u001b[37m80/178\u001b[0m \u001b[37m0:01:23 • 0:01:38\u001b[0m \u001b[37m1.01it/s\u001b[0m \u001b[37mloss: 0.364      \u001b[0m\n",
            "\u001b[2K\u001b[1A\u001b[2K\u001b[37mEpoch 10/99\u001b[0m \u001b[35m━━━━━━━\u001b[0m\u001b[90m╺\u001b[0m\u001b[90m━━━━━━━━\u001b[0m \u001b[37m80/178\u001b[0m \u001b[37m0:01:24 • 0:01:38\u001b[0m \u001b[37m1.01it/s\u001b[0m \u001b[37mloss: 0.362      \u001b[0m\n",
            "\u001b[2K\u001b[1A\u001b[2K\u001b[37mEpoch 10/99\u001b[0m \u001b[35m━━━━━━━\u001b[0m\u001b[90m╺\u001b[0m\u001b[90m━━━━━━━━\u001b[0m \u001b[37m80/178\u001b[0m \u001b[37m0:01:25 • 0:01:38\u001b[0m \u001b[37m1.01it/s\u001b[0m \u001b[37mloss: 0.36 v_num:\u001b[0m\n",
            "\u001b[2K\u001b[1A\u001b[2K\u001b[37mEpoch 10/99\u001b[0m \u001b[35m━━━━━━━\u001b[0m\u001b[90m╺\u001b[0m\u001b[90m━━━━━━━━\u001b[0m \u001b[37m80/178\u001b[0m \u001b[37m0:01:26 • 0:01:38\u001b[0m \u001b[37m1.01it/s\u001b[0m \u001b[37mloss: 0.356      \u001b[0m\n",
            "\u001b[2K\u001b[1A\u001b[2K\u001b[37mEpoch 10/99\u001b[0m \u001b[35m━━━━━━━\u001b[0m\u001b[90m╺\u001b[0m\u001b[90m━━━━━━━━\u001b[0m \u001b[37m80/178\u001b[0m \u001b[37m0:01:27 • 0:01:38\u001b[0m \u001b[37m1.01it/s\u001b[0m \u001b[37mloss: 0.351      \u001b[0m\n",
            "\u001b[2K\u001b[1A\u001b[2K\u001b[37mEpoch 10/99\u001b[0m \u001b[35m━━━━━━━\u001b[0m\u001b[90m╺\u001b[0m\u001b[90m━━━━━━━━\u001b[0m \u001b[37m80/178\u001b[0m \u001b[37m0:01:28 • 0:01:38\u001b[0m \u001b[37m1.01it/s\u001b[0m \u001b[37mloss: 0.348      \u001b[0m\n",
            "\u001b[2K\u001b[1A\u001b[2K\u001b[37mEpoch 10/99\u001b[0m \u001b[35m━━━━━━━\u001b[0m\u001b[90m╺\u001b[0m\u001b[90m━━━━━━━━\u001b[0m \u001b[37m80/178\u001b[0m \u001b[37m0:01:29 • 0:01:38\u001b[0m \u001b[37m1.01it/s\u001b[0m \u001b[37mloss: 0.346      \u001b[0m\n",
            "\u001b[2K\u001b[1A\u001b[2K\u001b[37mEpoch 10/99\u001b[0m \u001b[35m━━━━━━━\u001b[0m\u001b[90m╺\u001b[0m\u001b[90m━━━━━━━━\u001b[0m \u001b[37m80/178\u001b[0m \u001b[37m0:01:30 • 0:01:38\u001b[0m \u001b[37m1.01it/s\u001b[0m \u001b[37mloss: 0.348      \u001b[0m\n",
            "\u001b[2K\u001b[1A\u001b[2K\u001b[37mEpoch 10/99\u001b[0m \u001b[35m━━━━━━━━\u001b[0m\u001b[90m╺\u001b[0m\u001b[90m━━━━━━━\u001b[0m \u001b[37m90/178\u001b[0m \u001b[37m0:01:31 • 0:01:28\u001b[0m \u001b[37m1.01it/s\u001b[0m \u001b[37mloss: 0.348      \u001b[0m\n",
            "\u001b[2K\u001b[1A\u001b[2K\u001b[37mEpoch 10/99\u001b[0m \u001b[35m━━━━━━━━\u001b[0m\u001b[90m╺\u001b[0m\u001b[90m━━━━━━━\u001b[0m \u001b[37m90/178\u001b[0m \u001b[37m0:01:31 • 0:01:28\u001b[0m \u001b[37m1.01it/s\u001b[0m \u001b[37mloss: 0.346      \u001b[0m\n",
            "\u001b[2K\u001b[1A\u001b[2K\u001b[37mEpoch 10/99\u001b[0m \u001b[35m━━━━━━━━\u001b[0m\u001b[90m╺\u001b[0m\u001b[90m━━━━━━━\u001b[0m \u001b[37m90/178\u001b[0m \u001b[37m0:01:32 • 0:01:28\u001b[0m \u001b[37m1.01it/s\u001b[0m \u001b[37mloss: 0.343      \u001b[0m\n",
            "\u001b[2K\u001b[1A\u001b[2K\u001b[37mEpoch 10/99\u001b[0m \u001b[35m━━━━━━━━\u001b[0m\u001b[90m╺\u001b[0m\u001b[90m━━━━━━━\u001b[0m \u001b[37m90/178\u001b[0m \u001b[37m0:01:33 • 0:01:28\u001b[0m \u001b[37m1.01it/s\u001b[0m \u001b[37mloss: 0.342      \u001b[0m\n",
            "\u001b[2K\u001b[1A\u001b[2K\u001b[37mEpoch 10/99\u001b[0m \u001b[35m━━━━━━━━\u001b[0m\u001b[90m╺\u001b[0m\u001b[90m━━━━━━━\u001b[0m \u001b[37m90/178\u001b[0m \u001b[37m0:01:33 • 0:01:28\u001b[0m \u001b[37m1.01it/s\u001b[0m \u001b[37mloss: 0.342      \u001b[0m\n",
            "\u001b[2K\u001b[1A\u001b[2K\u001b[37mEpoch 10/99\u001b[0m \u001b[35m━━━━━━━━\u001b[0m\u001b[90m╺\u001b[0m\u001b[90m━━━━━━━\u001b[0m \u001b[37m90/178\u001b[0m \u001b[37m0:01:34 • 0:01:28\u001b[0m \u001b[37m1.01it/s\u001b[0m \u001b[37mloss: 0.341      \u001b[0m\n",
            "\u001b[2K\u001b[1A\u001b[2K\u001b[37mEpoch 10/99\u001b[0m \u001b[35m━━━━━━━━\u001b[0m\u001b[90m╺\u001b[0m\u001b[90m━━━━━━━\u001b[0m \u001b[37m90/178\u001b[0m \u001b[37m0:01:36 • 0:01:28\u001b[0m \u001b[37m1.01it/s\u001b[0m \u001b[37mloss: 0.339      \u001b[0m\n",
            "\u001b[2K\u001b[1A\u001b[2K\u001b[37mEpoch 10/99\u001b[0m \u001b[35m━━━━━━━━\u001b[0m\u001b[90m╺\u001b[0m\u001b[90m━━━━━━━\u001b[0m \u001b[37m90/178\u001b[0m \u001b[37m0:01:37 • 0:01:28\u001b[0m \u001b[37m1.01it/s\u001b[0m \u001b[37mloss: 0.341      \u001b[0m\n",
            "\u001b[2K\u001b[1A\u001b[2K\u001b[37mEpoch 10/99\u001b[0m \u001b[35m━━━━━━━━\u001b[0m\u001b[90m╺\u001b[0m\u001b[90m━━━━━━━\u001b[0m \u001b[37m90/178\u001b[0m \u001b[37m0:01:38 • 0:01:28\u001b[0m \u001b[37m1.01it/s\u001b[0m \u001b[37mloss: 0.344      \u001b[0m\n",
            "\u001b[2K\u001b[1A\u001b[2K\u001b[37mEpoch 10/99\u001b[0m \u001b[35m━━━━━━━━\u001b[0m\u001b[90m╺\u001b[0m\u001b[90m━━━━━━━\u001b[0m \u001b[37m90/178\u001b[0m \u001b[37m0:01:38 • 0:01:28\u001b[0m \u001b[37m1.01it/s\u001b[0m \u001b[37mloss: 0.347      \u001b[0m\n",
            "\u001b[2K\u001b[1A\u001b[2K\u001b[37mEpoch 10/99\u001b[0m \u001b[35m━━━━━━━━\u001b[0m\u001b[90m╺\u001b[0m\u001b[90m━━━━━━━\u001b[0m \u001b[37m90/178\u001b[0m \u001b[37m0:01:39 • 0:01:28\u001b[0m \u001b[37m1.01it/s\u001b[0m \u001b[37mloss: 0.342      \u001b[0m\n",
            "\u001b[2K\u001b[1A\u001b[2K\u001b[37mEpoch 10/99\u001b[0m \u001b[35m━━━━━━━━\u001b[0m\u001b[35m╸\u001b[0m\u001b[90m━━━━━━━\u001b[0m \u001b[37m100/178\u001b[0m \u001b[37m0:01:40 •       \u001b[0m \u001b[37m1.01it/s\u001b[0m \u001b[37mloss: 0.342      \u001b[0m\n",
            "\u001b[2K\u001b[1A\u001b[2K\u001b[37mEpoch 10/99\u001b[0m \u001b[35m━━━━━━━━\u001b[0m\u001b[35m╸\u001b[0m\u001b[90m━━━━━━━\u001b[0m \u001b[37m100/178\u001b[0m \u001b[37m0:01:40 •       \u001b[0m \u001b[37m1.01it/s\u001b[0m \u001b[37mloss: 0.344      \u001b[0m\n",
            "\u001b[2K\u001b[1A\u001b[2K\u001b[37mEpoch 10/99\u001b[0m \u001b[35m━━━━━━━━\u001b[0m\u001b[35m╸\u001b[0m\u001b[90m━━━━━━━\u001b[0m \u001b[37m100/178\u001b[0m \u001b[37m0:01:41 •       \u001b[0m \u001b[37m1.01it/s\u001b[0m \u001b[37mloss: 0.34 v_num:\u001b[0m\n",
            "\u001b[2K\u001b[1A\u001b[2K\u001b[37mEpoch 10/99\u001b[0m \u001b[35m━━━━━━━━\u001b[0m\u001b[35m╸\u001b[0m\u001b[90m━━━━━━━\u001b[0m \u001b[37m100/178\u001b[0m \u001b[37m0:01:42 •       \u001b[0m \u001b[37m1.01it/s\u001b[0m \u001b[37mloss: 0.339      \u001b[0m\n",
            "\u001b[2K\u001b[1A\u001b[2K\u001b[37mEpoch 10/99\u001b[0m \u001b[35m━━━━━━━━\u001b[0m\u001b[35m╸\u001b[0m\u001b[90m━━━━━━━\u001b[0m \u001b[37m100/178\u001b[0m \u001b[37m0:01:43 •       \u001b[0m \u001b[37m1.01it/s\u001b[0m \u001b[37mloss: 0.339      \u001b[0m\n",
            "\u001b[2K\u001b[1A\u001b[2K\u001b[37mEpoch 10/99\u001b[0m \u001b[35m━━━━━━━━\u001b[0m\u001b[35m╸\u001b[0m\u001b[90m━━━━━━━\u001b[0m \u001b[37m100/178\u001b[0m \u001b[37m0:01:44 •       \u001b[0m \u001b[37m1.01it/s\u001b[0m \u001b[37mloss: 0.339      \u001b[0m\n",
            "\u001b[2K\u001b[1A\u001b[2K\u001b[37mEpoch 10/99\u001b[0m \u001b[35m━━━━━━━━\u001b[0m\u001b[35m╸\u001b[0m\u001b[90m━━━━━━━\u001b[0m \u001b[37m100/178\u001b[0m \u001b[37m0:01:45 •       \u001b[0m \u001b[37m1.01it/s\u001b[0m \u001b[37mloss: 0.341      \u001b[0m\n",
            "\u001b[2K\u001b[1A\u001b[2K\u001b[37mEpoch 10/99\u001b[0m \u001b[35m━━━━━━━━\u001b[0m\u001b[35m╸\u001b[0m\u001b[90m━━━━━━━\u001b[0m \u001b[37m100/178\u001b[0m \u001b[37m0:01:46 •       \u001b[0m \u001b[37m1.01it/s\u001b[0m \u001b[37mloss: 0.34 v_num:\u001b[0m\n",
            "\u001b[2K\u001b[1A\u001b[2K\u001b[37mEpoch 10/99\u001b[0m \u001b[35m━━━━━━━━\u001b[0m\u001b[35m╸\u001b[0m\u001b[90m━━━━━━━\u001b[0m \u001b[37m100/178\u001b[0m \u001b[37m0:01:48 •       \u001b[0m \u001b[37m1.01it/s\u001b[0m \u001b[37mloss: 0.341      \u001b[0m\n",
            "\u001b[2K\u001b[1A\u001b[2K\u001b[37mEpoch 10/99\u001b[0m \u001b[35m━━━━━━━━\u001b[0m\u001b[35m╸\u001b[0m\u001b[90m━━━━━━━\u001b[0m \u001b[37m100/178\u001b[0m \u001b[37m0:01:48 •       \u001b[0m \u001b[37m1.01it/s\u001b[0m \u001b[37mloss: 0.343      \u001b[0m\n",
            "\u001b[2K\u001b[1A\u001b[2K\u001b[37mEpoch 10/99\u001b[0m \u001b[35m━━━━━━━━\u001b[0m\u001b[35m╸\u001b[0m\u001b[90m━━━━━━━\u001b[0m \u001b[37m100/178\u001b[0m \u001b[37m0:01:49 •       \u001b[0m \u001b[37m1.01it/s\u001b[0m \u001b[37mloss: 0.344      \u001b[0m\n",
            "\u001b[2K\u001b[1A\u001b[2K\u001b[37mEpoch 10/99\u001b[0m \u001b[35m━━━━━━━━━\u001b[0m\u001b[35m╸\u001b[0m\u001b[90m━━━━━━\u001b[0m \u001b[37m110/178\u001b[0m \u001b[37m0:01:50 •       \u001b[0m \u001b[37m1.01it/s\u001b[0m \u001b[37mloss: 0.344      \u001b[0m\n",
            "\u001b[2K\u001b[1A\u001b[2K\u001b[37mEpoch 10/99\u001b[0m \u001b[35m━━━━━━━━━\u001b[0m\u001b[35m╸\u001b[0m\u001b[90m━━━━━━\u001b[0m \u001b[37m110/178\u001b[0m \u001b[37m0:01:50 •       \u001b[0m \u001b[37m1.01it/s\u001b[0m \u001b[37mloss: 0.346      \u001b[0m\n",
            "\u001b[2K\u001b[1A\u001b[2K\u001b[37mEpoch 10/99\u001b[0m \u001b[35m━━━━━━━━━\u001b[0m\u001b[35m╸\u001b[0m\u001b[90m━━━━━━\u001b[0m \u001b[37m110/178\u001b[0m \u001b[37m0:01:51 •       \u001b[0m \u001b[37m1.01it/s\u001b[0m \u001b[37mloss: 0.347      \u001b[0m\n",
            "\u001b[2K\u001b[1A\u001b[2K\u001b[37mEpoch 10/99\u001b[0m \u001b[35m━━━━━━━━━\u001b[0m\u001b[35m╸\u001b[0m\u001b[90m━━━━━━\u001b[0m \u001b[37m110/178\u001b[0m \u001b[37m0:01:52 •       \u001b[0m \u001b[37m1.01it/s\u001b[0m \u001b[37mloss: 0.351      \u001b[0m\n",
            "\u001b[2K\u001b[1A\u001b[2K\u001b[37mEpoch 10/99\u001b[0m \u001b[35m━━━━━━━━━\u001b[0m\u001b[35m╸\u001b[0m\u001b[90m━━━━━━\u001b[0m \u001b[37m110/178\u001b[0m \u001b[37m0:01:53 •       \u001b[0m \u001b[37m1.01it/s\u001b[0m \u001b[37mloss: 0.347      \u001b[0m\n",
            "\u001b[2K\u001b[1A\u001b[2K\u001b[37mEpoch 10/99\u001b[0m \u001b[35m━━━━━━━━━\u001b[0m\u001b[35m╸\u001b[0m\u001b[90m━━━━━━\u001b[0m \u001b[37m110/178\u001b[0m \u001b[37m0:01:54 •       \u001b[0m \u001b[37m1.01it/s\u001b[0m \u001b[37mloss: 0.347      \u001b[0m\n",
            "\u001b[2K\u001b[1A\u001b[2K\u001b[37mEpoch 10/99\u001b[0m \u001b[35m━━━━━━━━━\u001b[0m\u001b[35m╸\u001b[0m\u001b[90m━━━━━━\u001b[0m \u001b[37m110/178\u001b[0m \u001b[37m0:01:55 •       \u001b[0m \u001b[37m1.01it/s\u001b[0m \u001b[37mloss: 0.344      \u001b[0m\n",
            "                                     \u001b[37m0:01:08         \u001b[0m          \u001b[37mv_num: on_1      \u001b[0m"
          ]
        }
      ]
    },
    {
      "cell_type": "markdown",
      "source": [
        "## Train GCN"
      ],
      "metadata": {
        "id": "SpUGC6x6xyKR"
      }
    },
    {
      "cell_type": "code",
      "source": [
        "%%shell\n",
        "eval \"$(conda shell.bash hook)\"\n",
        "conda activate advanced_grapher_env\n",
        "\n",
        "cat scripts/train_rgcn.sh\n",
        "sh scripts/train_rgcn.sh"
      ],
      "metadata": {
        "id": "9B-8fJK2xzxp"
      },
      "execution_count": null,
      "outputs": []
    },
    {
      "cell_type": "markdown",
      "source": [
        "## Test Grapher"
      ],
      "metadata": {
        "id": "QJ6pT6-Nj6N9"
      }
    },
    {
      "cell_type": "code",
      "source": [
        "%%shell\n",
        "eval \"$(conda shell.bash hook)\"\n",
        "conda activate advanced_grapher_env\n",
        "\n",
        "cat scripts/test_grapher.sh\n",
        "sh scripts/test_grapher.sh"
      ],
      "metadata": {
        "id": "vXNnIlghj7Nx",
        "colab": {
          "base_uri": "https://localhost:8080/"
        },
        "outputId": "404fe9f4-c941-49b7-9b3c-0e0973071d84"
      },
      "execution_count": 10,
      "outputs": [
        {
          "output_type": "stream",
          "name": "stdout",
          "text": [
            "#!/usr/bin/env bash\n",
            "\n",
            "# FIXME: for fast testing, limit_test_batches set to 0.1, at real-evaluation we should recover the value to 1.0\n",
            "python main.py    --version 1\\\n",
            "                  --default_root_dir output \\\n",
            "                  --run test \\\n",
            "                  --max_epochs 1 \\\n",
            "                  --accelerator gpu \\\n",
            "                  --num_nodes 1 \\\n",
            "                  --devices \"0,\" \\\n",
            "                  --batch_size 120 \\\n",
            "                  --num_sanity_val_steps 0 \\\n",
            "                  --fast_dev_run 0 \\\n",
            "                  --overfit_batches 0 \\\n",
            "                  --limit_train_batches 1.0 \\\n",
            "                  --limit_val_batches 1.0 \\\n",
            "                  --limit_test_batches 1.0 \\\n",
            "                  --accumulate_grad_batches 1 \\\n",
            "                  --detect_anomaly True \\\n",
            "                  --data_path webnlg-dataset/release_v3.0/en \\\n",
            "                  --checkpoint_model_id 79 \\\n",
            "                  --check_val_every_n_epoch 3 \\\n",
            "[nltk_data] Downloading package punkt to /root/nltk_data...\n",
            "[nltk_data]   Unzipping tokenizers/punkt.zip.\n",
            "TEST MODE\n",
            "Downloading: 100% 1.18k/1.18k [00:00<00:00, 3.58MB/s]\n",
            "Downloading: 100% 231M/231M [00:03<00:00, 71.0MB/s]\n",
            "add_rgcn not flagged.\n",
            "Freezed RGCN Model...\n",
            "Training Grapher Model...\n",
            "Downloading: 100% 2.27k/2.27k [00:00<00:00, 8.93MB/s]\n",
            "GPU available: True (cuda), used: True\n",
            "TPU available: False, using: 0 TPU cores\n",
            "IPU available: False, using: 0 IPUs\n",
            "HPU available: False, using: 0 HPUs\n",
            "`Trainer(limit_train_batches=1.0)` was configured so 100% of the batches per epoch will be used..\n",
            "`Trainer(limit_val_batches=1.0)` was configured so 100% of the batches will be used..\n",
            "`Trainer(limit_test_batches=1.0)` was configured so 100% of the batches will be used..\n",
            "LOCAL_RANK: 0 - CUDA_VISIBLE_DEVICES: [0]\n",
            "Testing DataLoader 0: 100% 18/18 [00:54<00:00,  3.04s/it]creating reference xml  file : [output/webnlg_version_1/test/ref_0_0.xml]\n",
            "creating hypothesis xml file : [output/webnlg_version_1/test/hyp_0_0.xml]\n",
            "Testing DataLoader 0: 100% 18/18 [03:30<00:00, 11.69s/it]\n",
            "┏━━━━━━━━━━━━━━━━━━━━━━━━━━━┳━━━━━━━━━━━━━━━━━━━━━━━━━━━┓\n",
            "┃\u001b[1m \u001b[0m\u001b[1m       Test metric       \u001b[0m\u001b[1m \u001b[0m┃\u001b[1m \u001b[0m\u001b[1m      DataLoader 0       \u001b[0m\u001b[1m \u001b[0m┃\n",
            "┡━━━━━━━━━━━━━━━━━━━━━━━━━━━╇━━━━━━━━━━━━━━━━━━━━━━━━━━━┩\n",
            "│\u001b[36m \u001b[0m\u001b[36m           F1            \u001b[0m\u001b[36m \u001b[0m│\u001b[35m \u001b[0m\u001b[35m   0.6024826765060425    \u001b[0m\u001b[35m \u001b[0m│\n",
            "│\u001b[36m \u001b[0m\u001b[36m        Precision        \u001b[0m\u001b[36m \u001b[0m│\u001b[35m \u001b[0m\u001b[35m   0.5993416905403137    \u001b[0m\u001b[35m \u001b[0m│\n",
            "│\u001b[36m \u001b[0m\u001b[36m         Recall          \u001b[0m\u001b[36m \u001b[0m│\u001b[35m \u001b[0m\u001b[35m   0.6073142290115356    \u001b[0m\u001b[35m \u001b[0m│\n",
            "└───────────────────────────┴───────────────────────────┘\n"
          ]
        },
        {
          "output_type": "execute_result",
          "data": {
            "text/plain": []
          },
          "metadata": {},
          "execution_count": 10
        }
      ]
    },
    {
      "cell_type": "markdown",
      "source": [
        "## Test advanced Grapher"
      ],
      "metadata": {
        "id": "xv32LYsdx7Gb"
      }
    },
    {
      "cell_type": "code",
      "source": [
        "%%shell\n",
        "eval \"$(conda shell.bash hook)\"\n",
        "conda activate advanced_grapher_env\n",
        "\n",
        "cat scripts/test_advanced_grapher.sh\n",
        "sh scripts/test_advanced_grapher.sh"
      ],
      "metadata": {
        "colab": {
          "base_uri": "https://localhost:8080/"
        },
        "id": "BWB3lmUcx_-6",
        "outputId": "58435a10-621b-44b4-e3b8-17341dbe3548"
      },
      "execution_count": 11,
      "outputs": [
        {
          "output_type": "stream",
          "name": "stdout",
          "text": [
            "#!/usr/bin/env bash\n",
            "\n",
            "# FIXME: for fast testing, limit_test_batches set to 0.1, at real-evaluation we should recover the value to 1.0\n",
            "python main.py    --version 1\\\n",
            "                  --default_root_dir output \\\n",
            "                  --run test \\\n",
            "                  --max_epochs 1 \\\n",
            "                  --accelerator gpu \\\n",
            "                  --num_nodes 1 \\\n",
            "                  --devices \"0,\" \\\n",
            "                  --batch_size 120 \\\n",
            "                  --num_sanity_val_steps 10 \\\n",
            "                  --fast_dev_run 0 \\\n",
            "                  --overfit_batches 0 \\\n",
            "                  --limit_train_batches 1.0 \\\n",
            "                  --limit_val_batches 1.0 \\\n",
            "                  --limit_test_batches 1.0 \\\n",
            "                  --accumulate_grad_batches 1 \\\n",
            "                  --detect_anomaly True \\\n",
            "                  --data_path webnlg-dataset/release_v3.0/en \\\n",
            "                  --checkpoint_model_id 114 \\\n",
            "                  --check_val_every_n_epoch 3 \\\n",
            "                  --add-rgcn  \\\n",
            "\n",
            "\n",
            "                  # set add_rgcn flag if you want to test with rgcn added\n",
            "                  # if add_rgcn flag is set, we should reduce batch_size\n",
            "[nltk_data] Downloading package punkt to /root/nltk_data...\n",
            "[nltk_data]   Package punkt is already up-to-date!\n",
            "TEST MODE\n",
            "add_rgcn flagged.\n",
            "Freezed Grapher Model...\n",
            "Training RGCN Model...\n",
            "GPU available: True (cuda), used: True\n",
            "TPU available: False, using: 0 TPU cores\n",
            "IPU available: False, using: 0 IPUs\n",
            "HPU available: False, using: 0 HPUs\n",
            "`Trainer(limit_train_batches=1.0)` was configured so 100% of the batches per epoch will be used..\n",
            "`Trainer(limit_val_batches=1.0)` was configured so 100% of the batches will be used..\n",
            "`Trainer(limit_test_batches=1.0)` was configured so 100% of the batches will be used..\n",
            "LOCAL_RANK: 0 - CUDA_VISIBLE_DEVICES: [0]\n",
            "Testing DataLoader 0: 100% 18/18 [00:54<00:00,  3.03s/it]creating reference xml  file : [output/webnlg_version_1/test/ref_0_0.xml]\n",
            "creating hypothesis xml file : [output/webnlg_version_1/test/hyp_0_0.xml]\n",
            "Testing DataLoader 0: 100% 18/18 [04:11<00:00, 13.95s/it]\n",
            "┏━━━━━━━━━━━━━━━━━━━━━━━━━━━┳━━━━━━━━━━━━━━━━━━━━━━━━━━━┓\n",
            "┃\u001b[1m \u001b[0m\u001b[1m       Test metric       \u001b[0m\u001b[1m \u001b[0m┃\u001b[1m \u001b[0m\u001b[1m      DataLoader 0       \u001b[0m\u001b[1m \u001b[0m┃\n",
            "┡━━━━━━━━━━━━━━━━━━━━━━━━━━━╇━━━━━━━━━━━━━━━━━━━━━━━━━━━┩\n",
            "│\u001b[36m \u001b[0m\u001b[36m           F1            \u001b[0m\u001b[36m \u001b[0m│\u001b[35m \u001b[0m\u001b[35m   0.5894231796264648    \u001b[0m\u001b[35m \u001b[0m│\n",
            "│\u001b[36m \u001b[0m\u001b[36m        Precision        \u001b[0m\u001b[36m \u001b[0m│\u001b[35m \u001b[0m\u001b[35m   0.5860973000526428    \u001b[0m\u001b[35m \u001b[0m│\n",
            "│\u001b[36m \u001b[0m\u001b[36m         Recall          \u001b[0m\u001b[36m \u001b[0m│\u001b[35m \u001b[0m\u001b[35m   0.5947153568267822    \u001b[0m\u001b[35m \u001b[0m│\n",
            "└───────────────────────────┴───────────────────────────┘\n"
          ]
        },
        {
          "output_type": "execute_result",
          "data": {
            "text/plain": []
          },
          "metadata": {},
          "execution_count": 11
        }
      ]
    },
    {
      "cell_type": "markdown",
      "source": [
        "## Single Inference for Grapher"
      ],
      "metadata": {
        "id": "J7BG82oWyE9r"
      }
    },
    {
      "cell_type": "code",
      "source": [
        "%%shell\n",
        "eval \"$(conda shell.bash hook)\"\n",
        "conda activate advanced_grapher_env\n",
        "\n",
        "python main.py    --version 1\\\n",
        "                  --default_root_dir output \\\n",
        "                  --run inference \\\n",
        "                  --max_epochs 1 \\\n",
        "                  --accelerator gpu \\\n",
        "                  --num_nodes 1 \\\n",
        "                  --devices \"0,\" \\\n",
        "                  --batch_size 120 \\\n",
        "                  --num_sanity_val_steps 10 \\\n",
        "                  --fast_dev_run 0 \\\n",
        "                  --overfit_batches 0 \\\n",
        "                  --limit_train_batches 1.0 \\\n",
        "                  --limit_val_batches 1.0 \\\n",
        "                  --limit_test_batches 1.0 \\\n",
        "                  --accumulate_grad_batches 1 \\\n",
        "                  --detect_anomaly True \\\n",
        "                  --data_path webnlg-dataset/release_v3.0/en \\\n",
        "                  --checkpoint_model_id 79 \\\n",
        "                  --check_val_every_n_epoch 3 \\\n",
        "                  --inference_input_text \"Danielle Harris had a main role in Super Capers, a 98 minute long movie.\""
      ],
      "metadata": {
        "colab": {
          "base_uri": "https://localhost:8080/"
        },
        "id": "VyuiCdSD3WG-",
        "outputId": "aa3b9458-1040-4cf7-bb5d-59817794a917"
      },
      "execution_count": 14,
      "outputs": [
        {
          "output_type": "stream",
          "name": "stdout",
          "text": [
            "[nltk_data] Downloading package punkt to /root/nltk_data...\n",
            "[nltk_data]   Package punkt is already up-to-date!\n",
            "add_rgcn not flagged.\n",
            "Freezed RGCN Model...\n",
            "Training Grapher Model...\n",
            "Generated Graph: ['Super Capers (comicsCharacter)-->creator-->Danielle Harris']\n"
          ]
        },
        {
          "output_type": "execute_result",
          "data": {
            "text/plain": []
          },
          "metadata": {},
          "execution_count": 14
        }
      ]
    },
    {
      "cell_type": "markdown",
      "source": [
        "## Single Inference for Advanced Grapher"
      ],
      "metadata": {
        "id": "5FCdn46z4Mvg"
      }
    },
    {
      "cell_type": "code",
      "source": [
        "%%shell\n",
        "eval \"$(conda shell.bash hook)\"\n",
        "conda activate advanced_grapher_env\n",
        "\n",
        "python main.py    --version 1\\\n",
        "                  --default_root_dir output \\\n",
        "                  --run inference \\\n",
        "                  --max_epochs 1 \\\n",
        "                  --accelerator gpu \\\n",
        "                  --num_nodes 1 \\\n",
        "                  --devices \"0,\" \\\n",
        "                  --batch_size 120 \\\n",
        "                  --num_sanity_val_steps 10 \\\n",
        "                  --fast_dev_run 0 \\\n",
        "                  --overfit_batches 0 \\\n",
        "                  --limit_train_batches 1.0 \\\n",
        "                  --limit_val_batches 1.0 \\\n",
        "                  --limit_test_batches 1.0 \\\n",
        "                  --accumulate_grad_batches 1 \\\n",
        "                  --detect_anomaly True \\\n",
        "                  --data_path webnlg-dataset/release_v3.0/en \\\n",
        "                  --checkpoint_model_id 114 \\\n",
        "                  --check_val_every_n_epoch 3 \\\n",
        "                  --add-rgcn  \\\n",
        "                  --inference_input_text \"Danielle Harris had a main role in Super Capers, a 98 minute long movie.\"\n",
        "\n",
        "\n",
        "                  # set add_rgcn flag if you want to test with rgcn added\n",
        "                  # if add_rgcn flag is set, we should reduce batch_size\n"
      ],
      "metadata": {
        "colab": {
          "base_uri": "https://localhost:8080/"
        },
        "id": "2tUrA_WU4MJf",
        "outputId": "b9453f4e-c1b1-44e9-cee2-519b82196526"
      },
      "execution_count": 16,
      "outputs": [
        {
          "output_type": "stream",
          "name": "stdout",
          "text": [
            "[nltk_data] Downloading package punkt to /root/nltk_data...\n",
            "[nltk_data]   Package punkt is already up-to-date!\n",
            "add_rgcn flagged.\n",
            "Freezed Grapher Model...\n",
            "Training RGCN Model...\n",
            "Generated Graph: ['Super Capers (comicsCharacter)-->length-->98\"(minutes)', 'Super Capers (comicsCharacter)-->creator-->Danielle Harris']\n"
          ]
        },
        {
          "output_type": "execute_result",
          "data": {
            "text/plain": []
          },
          "metadata": {},
          "execution_count": 16
        }
      ]
    }
  ]
}